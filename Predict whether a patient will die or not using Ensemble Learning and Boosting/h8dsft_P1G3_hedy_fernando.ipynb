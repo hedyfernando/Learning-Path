{
 "cells": [
  {
   "cell_type": "markdown",
   "id": "8b3d2c1a",
   "metadata": {},
   "source": [
    "# 1 - Introduction"
   ]
  },
  {
   "cell_type": "markdown",
   "id": "917b590c",
   "metadata": {},
   "source": [
    "### Name : Hedy Fernando\n",
    "### Batch : 001-HCK\n",
    "### Data-Set : ftds-hacktiv8-project.phase1_ftds_001_hck.heart-failure\n",
    "### Objective :  Model untuk memprediksi apakah seorang pasien akan meninggal atau tidak."
   ]
  },
  {
   "cell_type": "markdown",
   "id": "2e870463",
   "metadata": {},
   "source": [
    "## BiqQuery"
   ]
  },
  {
   "cell_type": "markdown",
   "id": "ea8566bb",
   "metadata": {},
   "source": [
    "select * from `ftds-hacktiv8-project.phase1_ftds_001_hck.heart-failure`"
   ]
  },
  {
   "cell_type": "markdown",
   "id": "2603ce68",
   "metadata": {},
   "source": [
    "# 2 - Import Libraries"
   ]
  },
  {
   "cell_type": "code",
   "execution_count": 1,
   "id": "104fc204",
   "metadata": {},
   "outputs": [],
   "source": [
    "# Import Libraries\n",
    "\n",
    "import pandas as pd\n",
    "import numpy as np\n",
    "import matplotlib.pyplot as plt\n",
    "import seaborn as sns\n",
    "\n",
    "from sklearn.model_selection import train_test_split\n",
    "from sklearn.feature_selection import chi2, SelectKBest, f_classif\n",
    "from sklearn.preprocessing import MinMaxScaler\n",
    "from imblearn.over_sampling import SMOTENC\n",
    "from collections import Counter\n",
    "\n",
    "from sklearn.ensemble import RandomForestClassifier, AdaBoostClassifier\n",
    "from sklearn.metrics import classification_report, confusion_matrix, ConfusionMatrixDisplay, roc_auc_score"
   ]
  },
  {
   "cell_type": "markdown",
   "id": "dc8ed148",
   "metadata": {},
   "source": [
    "# 3 - Data Loading"
   ]
  },
  {
   "cell_type": "code",
   "execution_count": 2,
   "id": "7398fca5",
   "metadata": {},
   "outputs": [],
   "source": [
    "# Import Data-set with pandas\n",
    "\n",
    "data = pd.read_csv('h8dsft_P1G3_hedy_fernando.csv')"
   ]
  },
  {
   "cell_type": "code",
   "execution_count": 3,
   "id": "63afed84",
   "metadata": {},
   "outputs": [
    {
     "data": {
      "text/html": [
       "<div>\n",
       "<style scoped>\n",
       "    .dataframe tbody tr th:only-of-type {\n",
       "        vertical-align: middle;\n",
       "    }\n",
       "\n",
       "    .dataframe tbody tr th {\n",
       "        vertical-align: top;\n",
       "    }\n",
       "\n",
       "    .dataframe thead th {\n",
       "        text-align: right;\n",
       "    }\n",
       "</style>\n",
       "<table border=\"1\" class=\"dataframe\">\n",
       "  <thead>\n",
       "    <tr style=\"text-align: right;\">\n",
       "      <th></th>\n",
       "      <th>age</th>\n",
       "      <th>anaemia</th>\n",
       "      <th>creatinine_phosphokinase</th>\n",
       "      <th>diabetes</th>\n",
       "      <th>ejection_fraction</th>\n",
       "      <th>high_blood_pressure</th>\n",
       "      <th>platelets</th>\n",
       "      <th>serum_creatinine</th>\n",
       "      <th>serum_sodium</th>\n",
       "      <th>sex</th>\n",
       "      <th>smoking</th>\n",
       "      <th>time</th>\n",
       "      <th>DEATH_EVENT</th>\n",
       "    </tr>\n",
       "  </thead>\n",
       "  <tbody>\n",
       "    <tr>\n",
       "      <th>0</th>\n",
       "      <td>42.0</td>\n",
       "      <td>1</td>\n",
       "      <td>250</td>\n",
       "      <td>1</td>\n",
       "      <td>15</td>\n",
       "      <td>0</td>\n",
       "      <td>213000.0</td>\n",
       "      <td>1.3</td>\n",
       "      <td>136</td>\n",
       "      <td>0</td>\n",
       "      <td>0</td>\n",
       "      <td>65</td>\n",
       "      <td>1</td>\n",
       "    </tr>\n",
       "    <tr>\n",
       "      <th>1</th>\n",
       "      <td>46.0</td>\n",
       "      <td>0</td>\n",
       "      <td>168</td>\n",
       "      <td>1</td>\n",
       "      <td>17</td>\n",
       "      <td>1</td>\n",
       "      <td>271000.0</td>\n",
       "      <td>2.1</td>\n",
       "      <td>124</td>\n",
       "      <td>0</td>\n",
       "      <td>0</td>\n",
       "      <td>100</td>\n",
       "      <td>1</td>\n",
       "    </tr>\n",
       "    <tr>\n",
       "      <th>2</th>\n",
       "      <td>65.0</td>\n",
       "      <td>1</td>\n",
       "      <td>160</td>\n",
       "      <td>1</td>\n",
       "      <td>20</td>\n",
       "      <td>0</td>\n",
       "      <td>327000.0</td>\n",
       "      <td>2.7</td>\n",
       "      <td>116</td>\n",
       "      <td>0</td>\n",
       "      <td>0</td>\n",
       "      <td>8</td>\n",
       "      <td>1</td>\n",
       "    </tr>\n",
       "    <tr>\n",
       "      <th>3</th>\n",
       "      <td>53.0</td>\n",
       "      <td>1</td>\n",
       "      <td>91</td>\n",
       "      <td>0</td>\n",
       "      <td>20</td>\n",
       "      <td>1</td>\n",
       "      <td>418000.0</td>\n",
       "      <td>1.4</td>\n",
       "      <td>139</td>\n",
       "      <td>0</td>\n",
       "      <td>0</td>\n",
       "      <td>43</td>\n",
       "      <td>1</td>\n",
       "    </tr>\n",
       "    <tr>\n",
       "      <th>4</th>\n",
       "      <td>50.0</td>\n",
       "      <td>1</td>\n",
       "      <td>582</td>\n",
       "      <td>1</td>\n",
       "      <td>20</td>\n",
       "      <td>1</td>\n",
       "      <td>279000.0</td>\n",
       "      <td>1.0</td>\n",
       "      <td>134</td>\n",
       "      <td>0</td>\n",
       "      <td>0</td>\n",
       "      <td>186</td>\n",
       "      <td>0</td>\n",
       "    </tr>\n",
       "  </tbody>\n",
       "</table>\n",
       "</div>"
      ],
      "text/plain": [
       "    age  anaemia  creatinine_phosphokinase  diabetes  ejection_fraction  \\\n",
       "0  42.0        1                       250         1                 15   \n",
       "1  46.0        0                       168         1                 17   \n",
       "2  65.0        1                       160         1                 20   \n",
       "3  53.0        1                        91         0                 20   \n",
       "4  50.0        1                       582         1                 20   \n",
       "\n",
       "   high_blood_pressure  platelets  serum_creatinine  serum_sodium  sex  \\\n",
       "0                    0   213000.0               1.3           136    0   \n",
       "1                    1   271000.0               2.1           124    0   \n",
       "2                    0   327000.0               2.7           116    0   \n",
       "3                    1   418000.0               1.4           139    0   \n",
       "4                    1   279000.0               1.0           134    0   \n",
       "\n",
       "   smoking  time  DEATH_EVENT  \n",
       "0        0    65            1  \n",
       "1        0   100            1  \n",
       "2        0     8            1  \n",
       "3        0    43            1  \n",
       "4        0   186            0  "
      ]
     },
     "execution_count": 3,
     "metadata": {},
     "output_type": "execute_result"
    }
   ],
   "source": [
    "# Show Top Data\n",
    "\n",
    "data.head()"
   ]
  },
  {
   "cell_type": "code",
   "execution_count": 4,
   "id": "04a3d5d0",
   "metadata": {
    "scrolled": true
   },
   "outputs": [
    {
     "data": {
      "text/html": [
       "<div>\n",
       "<style scoped>\n",
       "    .dataframe tbody tr th:only-of-type {\n",
       "        vertical-align: middle;\n",
       "    }\n",
       "\n",
       "    .dataframe tbody tr th {\n",
       "        vertical-align: top;\n",
       "    }\n",
       "\n",
       "    .dataframe thead th {\n",
       "        text-align: right;\n",
       "    }\n",
       "</style>\n",
       "<table border=\"1\" class=\"dataframe\">\n",
       "  <thead>\n",
       "    <tr style=\"text-align: right;\">\n",
       "      <th></th>\n",
       "      <th>age</th>\n",
       "      <th>anaemia</th>\n",
       "      <th>creatinine_phosphokinase</th>\n",
       "      <th>diabetes</th>\n",
       "      <th>ejection_fraction</th>\n",
       "      <th>high_blood_pressure</th>\n",
       "      <th>platelets</th>\n",
       "      <th>serum_creatinine</th>\n",
       "      <th>serum_sodium</th>\n",
       "      <th>sex</th>\n",
       "      <th>smoking</th>\n",
       "      <th>time</th>\n",
       "      <th>DEATH_EVENT</th>\n",
       "    </tr>\n",
       "  </thead>\n",
       "  <tbody>\n",
       "    <tr>\n",
       "      <th>294</th>\n",
       "      <td>63.0</td>\n",
       "      <td>1</td>\n",
       "      <td>122</td>\n",
       "      <td>1</td>\n",
       "      <td>60</td>\n",
       "      <td>0</td>\n",
       "      <td>267000.00</td>\n",
       "      <td>1.2</td>\n",
       "      <td>145</td>\n",
       "      <td>1</td>\n",
       "      <td>0</td>\n",
       "      <td>147</td>\n",
       "      <td>0</td>\n",
       "    </tr>\n",
       "    <tr>\n",
       "      <th>295</th>\n",
       "      <td>45.0</td>\n",
       "      <td>0</td>\n",
       "      <td>308</td>\n",
       "      <td>1</td>\n",
       "      <td>60</td>\n",
       "      <td>1</td>\n",
       "      <td>377000.00</td>\n",
       "      <td>1.0</td>\n",
       "      <td>136</td>\n",
       "      <td>1</td>\n",
       "      <td>0</td>\n",
       "      <td>186</td>\n",
       "      <td>0</td>\n",
       "    </tr>\n",
       "    <tr>\n",
       "      <th>296</th>\n",
       "      <td>70.0</td>\n",
       "      <td>0</td>\n",
       "      <td>97</td>\n",
       "      <td>0</td>\n",
       "      <td>60</td>\n",
       "      <td>1</td>\n",
       "      <td>220000.00</td>\n",
       "      <td>0.9</td>\n",
       "      <td>138</td>\n",
       "      <td>1</td>\n",
       "      <td>0</td>\n",
       "      <td>186</td>\n",
       "      <td>0</td>\n",
       "    </tr>\n",
       "    <tr>\n",
       "      <th>297</th>\n",
       "      <td>53.0</td>\n",
       "      <td>1</td>\n",
       "      <td>446</td>\n",
       "      <td>0</td>\n",
       "      <td>60</td>\n",
       "      <td>1</td>\n",
       "      <td>263358.03</td>\n",
       "      <td>1.0</td>\n",
       "      <td>139</td>\n",
       "      <td>1</td>\n",
       "      <td>0</td>\n",
       "      <td>215</td>\n",
       "      <td>0</td>\n",
       "    </tr>\n",
       "    <tr>\n",
       "      <th>298</th>\n",
       "      <td>50.0</td>\n",
       "      <td>0</td>\n",
       "      <td>582</td>\n",
       "      <td>0</td>\n",
       "      <td>62</td>\n",
       "      <td>1</td>\n",
       "      <td>147000.00</td>\n",
       "      <td>0.8</td>\n",
       "      <td>140</td>\n",
       "      <td>1</td>\n",
       "      <td>1</td>\n",
       "      <td>192</td>\n",
       "      <td>0</td>\n",
       "    </tr>\n",
       "  </tbody>\n",
       "</table>\n",
       "</div>"
      ],
      "text/plain": [
       "      age  anaemia  creatinine_phosphokinase  diabetes  ejection_fraction  \\\n",
       "294  63.0        1                       122         1                 60   \n",
       "295  45.0        0                       308         1                 60   \n",
       "296  70.0        0                        97         0                 60   \n",
       "297  53.0        1                       446         0                 60   \n",
       "298  50.0        0                       582         0                 62   \n",
       "\n",
       "     high_blood_pressure  platelets  serum_creatinine  serum_sodium  sex  \\\n",
       "294                    0  267000.00               1.2           145    1   \n",
       "295                    1  377000.00               1.0           136    1   \n",
       "296                    1  220000.00               0.9           138    1   \n",
       "297                    1  263358.03               1.0           139    1   \n",
       "298                    1  147000.00               0.8           140    1   \n",
       "\n",
       "     smoking  time  DEATH_EVENT  \n",
       "294        0   147            0  \n",
       "295        0   186            0  \n",
       "296        0   186            0  \n",
       "297        0   215            0  \n",
       "298        1   192            0  "
      ]
     },
     "execution_count": 4,
     "metadata": {},
     "output_type": "execute_result"
    }
   ],
   "source": [
    "# Show Bottom Data\n",
    "\n",
    "data.tail()"
   ]
  },
  {
   "cell_type": "code",
   "execution_count": 5,
   "id": "e28d7cdc",
   "metadata": {
    "scrolled": false
   },
   "outputs": [
    {
     "name": "stdout",
     "output_type": "stream",
     "text": [
      "<class 'pandas.core.frame.DataFrame'>\n",
      "RangeIndex: 299 entries, 0 to 298\n",
      "Data columns (total 13 columns):\n",
      " #   Column                    Non-Null Count  Dtype  \n",
      "---  ------                    --------------  -----  \n",
      " 0   age                       299 non-null    float64\n",
      " 1   anaemia                   299 non-null    int64  \n",
      " 2   creatinine_phosphokinase  299 non-null    int64  \n",
      " 3   diabetes                  299 non-null    int64  \n",
      " 4   ejection_fraction         299 non-null    int64  \n",
      " 5   high_blood_pressure       299 non-null    int64  \n",
      " 6   platelets                 299 non-null    float64\n",
      " 7   serum_creatinine          299 non-null    float64\n",
      " 8   serum_sodium              299 non-null    int64  \n",
      " 9   sex                       299 non-null    int64  \n",
      " 10  smoking                   299 non-null    int64  \n",
      " 11  time                      299 non-null    int64  \n",
      " 12  DEATH_EVENT               299 non-null    int64  \n",
      "dtypes: float64(3), int64(10)\n",
      "memory usage: 30.5 KB\n"
     ]
    }
   ],
   "source": [
    "# Show info data\n",
    "\n",
    "data.info()"
   ]
  },
  {
   "cell_type": "markdown",
   "id": "841696bf",
   "metadata": {},
   "source": [
    "Nilai Data berbobot sama tanpa ada nilai kosong.\n",
    "\n",
    "- Data Numerik : 'age', 'creatinine_phosphokinase', 'ejection_fraction', 'platelets','serum_creatinine', 'serum_sodium', 'time'\n",
    "\n",
    "- Data Category : 'anaemia', 'diabetes', 'high_blood_pressure', 'sex', 'smoking','DEATH_EVENT'"
   ]
  },
  {
   "cell_type": "code",
   "execution_count": 6,
   "id": "1ad5de76",
   "metadata": {
    "scrolled": true
   },
   "outputs": [
    {
     "data": {
      "text/html": [
       "<div>\n",
       "<style scoped>\n",
       "    .dataframe tbody tr th:only-of-type {\n",
       "        vertical-align: middle;\n",
       "    }\n",
       "\n",
       "    .dataframe tbody tr th {\n",
       "        vertical-align: top;\n",
       "    }\n",
       "\n",
       "    .dataframe thead th {\n",
       "        text-align: right;\n",
       "    }\n",
       "</style>\n",
       "<table border=\"1\" class=\"dataframe\">\n",
       "  <thead>\n",
       "    <tr style=\"text-align: right;\">\n",
       "      <th></th>\n",
       "      <th>age</th>\n",
       "      <th>anaemia</th>\n",
       "      <th>creatinine_phosphokinase</th>\n",
       "      <th>diabetes</th>\n",
       "      <th>ejection_fraction</th>\n",
       "      <th>high_blood_pressure</th>\n",
       "      <th>platelets</th>\n",
       "      <th>serum_creatinine</th>\n",
       "      <th>serum_sodium</th>\n",
       "      <th>sex</th>\n",
       "      <th>smoking</th>\n",
       "      <th>time</th>\n",
       "      <th>DEATH_EVENT</th>\n",
       "    </tr>\n",
       "  </thead>\n",
       "  <tbody>\n",
       "    <tr>\n",
       "      <th>count</th>\n",
       "      <td>299.000000</td>\n",
       "      <td>299.000000</td>\n",
       "      <td>299.000000</td>\n",
       "      <td>299.000000</td>\n",
       "      <td>299.000000</td>\n",
       "      <td>299.000000</td>\n",
       "      <td>299.000000</td>\n",
       "      <td>299.00000</td>\n",
       "      <td>299.000000</td>\n",
       "      <td>299.000000</td>\n",
       "      <td>299.00000</td>\n",
       "      <td>299.000000</td>\n",
       "      <td>299.00000</td>\n",
       "    </tr>\n",
       "    <tr>\n",
       "      <th>mean</th>\n",
       "      <td>60.833893</td>\n",
       "      <td>0.431438</td>\n",
       "      <td>581.839465</td>\n",
       "      <td>0.418060</td>\n",
       "      <td>38.083612</td>\n",
       "      <td>0.351171</td>\n",
       "      <td>263358.029264</td>\n",
       "      <td>1.39388</td>\n",
       "      <td>136.625418</td>\n",
       "      <td>0.648829</td>\n",
       "      <td>0.32107</td>\n",
       "      <td>130.260870</td>\n",
       "      <td>0.32107</td>\n",
       "    </tr>\n",
       "    <tr>\n",
       "      <th>std</th>\n",
       "      <td>11.894809</td>\n",
       "      <td>0.496107</td>\n",
       "      <td>970.287881</td>\n",
       "      <td>0.494067</td>\n",
       "      <td>11.834841</td>\n",
       "      <td>0.478136</td>\n",
       "      <td>97804.236869</td>\n",
       "      <td>1.03451</td>\n",
       "      <td>4.412477</td>\n",
       "      <td>0.478136</td>\n",
       "      <td>0.46767</td>\n",
       "      <td>77.614208</td>\n",
       "      <td>0.46767</td>\n",
       "    </tr>\n",
       "    <tr>\n",
       "      <th>min</th>\n",
       "      <td>40.000000</td>\n",
       "      <td>0.000000</td>\n",
       "      <td>23.000000</td>\n",
       "      <td>0.000000</td>\n",
       "      <td>14.000000</td>\n",
       "      <td>0.000000</td>\n",
       "      <td>25100.000000</td>\n",
       "      <td>0.50000</td>\n",
       "      <td>113.000000</td>\n",
       "      <td>0.000000</td>\n",
       "      <td>0.00000</td>\n",
       "      <td>4.000000</td>\n",
       "      <td>0.00000</td>\n",
       "    </tr>\n",
       "    <tr>\n",
       "      <th>25%</th>\n",
       "      <td>51.000000</td>\n",
       "      <td>0.000000</td>\n",
       "      <td>116.500000</td>\n",
       "      <td>0.000000</td>\n",
       "      <td>30.000000</td>\n",
       "      <td>0.000000</td>\n",
       "      <td>212500.000000</td>\n",
       "      <td>0.90000</td>\n",
       "      <td>134.000000</td>\n",
       "      <td>0.000000</td>\n",
       "      <td>0.00000</td>\n",
       "      <td>73.000000</td>\n",
       "      <td>0.00000</td>\n",
       "    </tr>\n",
       "    <tr>\n",
       "      <th>50%</th>\n",
       "      <td>60.000000</td>\n",
       "      <td>0.000000</td>\n",
       "      <td>250.000000</td>\n",
       "      <td>0.000000</td>\n",
       "      <td>38.000000</td>\n",
       "      <td>0.000000</td>\n",
       "      <td>262000.000000</td>\n",
       "      <td>1.10000</td>\n",
       "      <td>137.000000</td>\n",
       "      <td>1.000000</td>\n",
       "      <td>0.00000</td>\n",
       "      <td>115.000000</td>\n",
       "      <td>0.00000</td>\n",
       "    </tr>\n",
       "    <tr>\n",
       "      <th>75%</th>\n",
       "      <td>70.000000</td>\n",
       "      <td>1.000000</td>\n",
       "      <td>582.000000</td>\n",
       "      <td>1.000000</td>\n",
       "      <td>45.000000</td>\n",
       "      <td>1.000000</td>\n",
       "      <td>303500.000000</td>\n",
       "      <td>1.40000</td>\n",
       "      <td>140.000000</td>\n",
       "      <td>1.000000</td>\n",
       "      <td>1.00000</td>\n",
       "      <td>203.000000</td>\n",
       "      <td>1.00000</td>\n",
       "    </tr>\n",
       "    <tr>\n",
       "      <th>max</th>\n",
       "      <td>95.000000</td>\n",
       "      <td>1.000000</td>\n",
       "      <td>7861.000000</td>\n",
       "      <td>1.000000</td>\n",
       "      <td>80.000000</td>\n",
       "      <td>1.000000</td>\n",
       "      <td>850000.000000</td>\n",
       "      <td>9.40000</td>\n",
       "      <td>148.000000</td>\n",
       "      <td>1.000000</td>\n",
       "      <td>1.00000</td>\n",
       "      <td>285.000000</td>\n",
       "      <td>1.00000</td>\n",
       "    </tr>\n",
       "  </tbody>\n",
       "</table>\n",
       "</div>"
      ],
      "text/plain": [
       "              age     anaemia  creatinine_phosphokinase    diabetes  \\\n",
       "count  299.000000  299.000000                299.000000  299.000000   \n",
       "mean    60.833893    0.431438                581.839465    0.418060   \n",
       "std     11.894809    0.496107                970.287881    0.494067   \n",
       "min     40.000000    0.000000                 23.000000    0.000000   \n",
       "25%     51.000000    0.000000                116.500000    0.000000   \n",
       "50%     60.000000    0.000000                250.000000    0.000000   \n",
       "75%     70.000000    1.000000                582.000000    1.000000   \n",
       "max     95.000000    1.000000               7861.000000    1.000000   \n",
       "\n",
       "       ejection_fraction  high_blood_pressure      platelets  \\\n",
       "count         299.000000           299.000000     299.000000   \n",
       "mean           38.083612             0.351171  263358.029264   \n",
       "std            11.834841             0.478136   97804.236869   \n",
       "min            14.000000             0.000000   25100.000000   \n",
       "25%            30.000000             0.000000  212500.000000   \n",
       "50%            38.000000             0.000000  262000.000000   \n",
       "75%            45.000000             1.000000  303500.000000   \n",
       "max            80.000000             1.000000  850000.000000   \n",
       "\n",
       "       serum_creatinine  serum_sodium         sex    smoking        time  \\\n",
       "count         299.00000    299.000000  299.000000  299.00000  299.000000   \n",
       "mean            1.39388    136.625418    0.648829    0.32107  130.260870   \n",
       "std             1.03451      4.412477    0.478136    0.46767   77.614208   \n",
       "min             0.50000    113.000000    0.000000    0.00000    4.000000   \n",
       "25%             0.90000    134.000000    0.000000    0.00000   73.000000   \n",
       "50%             1.10000    137.000000    1.000000    0.00000  115.000000   \n",
       "75%             1.40000    140.000000    1.000000    1.00000  203.000000   \n",
       "max             9.40000    148.000000    1.000000    1.00000  285.000000   \n",
       "\n",
       "       DEATH_EVENT  \n",
       "count    299.00000  \n",
       "mean       0.32107  \n",
       "std        0.46767  \n",
       "min        0.00000  \n",
       "25%        0.00000  \n",
       "50%        0.00000  \n",
       "75%        1.00000  \n",
       "max        1.00000  "
      ]
     },
     "execution_count": 6,
     "metadata": {},
     "output_type": "execute_result"
    }
   ],
   "source": [
    "# Show Central Tendency data\n",
    "\n",
    "data.describe()"
   ]
  },
  {
   "cell_type": "markdown",
   "id": "a8a634a8",
   "metadata": {},
   "source": [
    "Tidak terlihat ada anomali pada Data-Set."
   ]
  },
  {
   "cell_type": "code",
   "execution_count": 7,
   "id": "4646090a",
   "metadata": {
    "scrolled": true
   },
   "outputs": [
    {
     "data": {
      "text/plain": [
       "0"
      ]
     },
     "execution_count": 7,
     "metadata": {},
     "output_type": "execute_result"
    }
   ],
   "source": [
    "# Check Duplicated data\n",
    "\n",
    "data.duplicated().sum()"
   ]
  },
  {
   "cell_type": "markdown",
   "id": "41ef8a3c",
   "metadata": {},
   "source": [
    "Tidak terdapat data duplicat di data-set."
   ]
  },
  {
   "cell_type": "code",
   "execution_count": 8,
   "id": "eb03ac25",
   "metadata": {
    "scrolled": true
   },
   "outputs": [
    {
     "data": {
      "text/plain": [
       "age                         0\n",
       "anaemia                     0\n",
       "creatinine_phosphokinase    0\n",
       "diabetes                    0\n",
       "ejection_fraction           0\n",
       "high_blood_pressure         0\n",
       "platelets                   0\n",
       "serum_creatinine            0\n",
       "serum_sodium                0\n",
       "sex                         0\n",
       "smoking                     0\n",
       "time                        0\n",
       "DEATH_EVENT                 0\n",
       "dtype: int64"
      ]
     },
     "execution_count": 8,
     "metadata": {},
     "output_type": "execute_result"
    }
   ],
   "source": [
    "# Check Null Value\n",
    "\n",
    "data.isnull().sum()"
   ]
  },
  {
   "cell_type": "markdown",
   "id": "d43d5fc0",
   "metadata": {},
   "source": [
    "Tidak terdapat Missing Value pada data-set."
   ]
  },
  {
   "cell_type": "markdown",
   "id": "69068290",
   "metadata": {},
   "source": [
    "# 4 - EDA"
   ]
  },
  {
   "cell_type": "code",
   "execution_count": 9,
   "id": "55807111",
   "metadata": {
    "scrolled": false
   },
   "outputs": [
    {
     "name": "stderr",
     "output_type": "stream",
     "text": [
      "No artists with labels found to put in legend.  Note that artists whose label start with an underscore are ignored when legend() is called with no argument.\n"
     ]
    },
    {
     "data": {
      "image/png": "[encoded data removed]",
      "text/plain": [
       "<Figure size 576x720 with 1 Axes>"
      ]
     },
     "metadata": {},
     "output_type": "display_data"
    }
   ],
   "source": [
    "# Create pie chart Target\n",
    "\n",
    "labels = ['Tidak Meninggal', 'Meninggal']\n",
    "explode = (0.0, 0.1)\n",
    "color = ['green','red']\n",
    "\n",
    "plt.figure(figsize=(8,10))\n",
    "plt.legend(title = \"Death Event\")\n",
    "plt.pie(data['DEATH_EVENT'].value_counts(), explode=explode,colors=color, labels=labels, autopct='%1.1f%%',\n",
    "        shadow=True, startangle=90)\n",
    "plt.show()"
   ]
  },
  {
   "cell_type": "markdown",
   "id": "29980179",
   "metadata": {},
   "source": [
    "Dari grafik di atas kita ketahui bahwa jumlah yang meninggal sejumlah 32.1% dari total pasien 299 orang. Kita akan lakukan analisis lebih lanjut faktor apa yang mempengaruhi kematian seorang pasien."
   ]
  },
  {
   "cell_type": "code",
   "execution_count": 10,
   "id": "c4113c33",
   "metadata": {
    "scrolled": false
   },
   "outputs": [
    {
     "data": {
      "image/png": "[encoded data removed]",
      "text/plain": [
       "<Figure size 1080x432 with 1 Axes>"
      ]
     },
     "metadata": {
      "needs_background": "light"
     },
     "output_type": "display_data"
    },
    {
     "data": {
      "image/png": "[encoded data removed]",
      "text/plain": [
       "<Figure size 1080x432 with 1 Axes>"
      ]
     },
     "metadata": {
      "needs_background": "light"
     },
     "output_type": "display_data"
    },
    {
     "data": {
      "image/png": "[encoded data removed]",
      "text/plain": [
       "<Figure size 1080x432 with 1 Axes>"
      ]
     },
     "metadata": {
      "needs_background": "light"
     },
     "output_type": "display_data"
    },
    {
     "data": {
      "image/png": "[encoded data removed]",
      "text/plain": [
       "<Figure size 1080x432 with 1 Axes>"
      ]
     },
     "metadata": {
      "needs_background": "light"
     },
     "output_type": "display_data"
    },
    {
     "data": {
      "image/png": "[encoded data removed]",
      "text/plain": [
       "<Figure size 1080x432 with 1 Axes>"
      ]
     },
     "metadata": {
      "needs_background": "light"
     },
     "output_type": "display_data"
    },
    {
     "data": {
      "image/png": "[encoded data removed]",
      "text/plain": [
       "<Figure size 1080x432 with 1 Axes>"
      ]
     },
     "metadata": {
      "needs_background": "light"
     },
     "output_type": "display_data"
    }
   ],
   "source": [
    "# Create countplot\n",
    "dat_c = ['anaemia', 'diabetes', 'high_blood_pressure', 'smoking', 'sex', 'ejection_fraction']\n",
    "for col in dat_c:\n",
    "    plt.figure(figsize=(15,6))\n",
    "    plt.rcParams.update({'font.size': 15})\n",
    "    plt.title(data[col].name)\n",
    "    plt.rc('xtick', labelsize=10) \n",
    "    plt.rc('ytick', labelsize=10)\n",
    "  \n",
    "    ax = sns.countplot(x=data[col] ,data=data, hue='DEATH_EVENT', palette=('g','r'))\n",
    "    plt.legend(labels=[\"Tidak Meninggal\",\"Meninggal\"])\n",
    "    ax.set_xlabel(\"\")\n",
    "    for i in ax.containers:\n",
    "        ax.bar_label(i,)"
   ]
  },
  {
   "cell_type": "markdown",
   "id": "87e6a6b7",
   "metadata": {},
   "source": [
    "- Pada grafik anaemia, jumlah yang tidak terjangkit anaemia lebih banyak dibanding yang terjangkit anaemia. Jumlah yang meninggal karena anaemia ada sejumlah 46 orang dari 129 orang.\n",
    "\n",
    "- Pada grafik diabetes, jumlah yang tidak terjangkit diabetes lebih banyak dibanding yang terjangkit diabetes. Total yang meninggal akibat diabetes ada 40 orang dari total yang terjangkit sejumlah 125 orang.\n",
    "\n",
    "- Pada grafik tekanan darah tinggi, jumlah yang tidak bertekanan darah tinggi lebih banyak dibanding yang bertekanan darah tinggi. Jumlah yang meninggal akibat tekanan darah tinggi sejumlah 39 orang dari total 105 orang.\n",
    "\n",
    "- Pada grafik yang merokok, jumlah yang tidak merokok lebih tinggi dibanding yang merokok. Orang yang meninggal akibat rokok ada sejumlah 30 orang dari 96 orang yang merokok.\n",
    "\n",
    "- Pada grafik gender, 0 adalah wanita dan 1 adalah laki-laki. Kita mengetahui bahwa laki-laki jumlahnya lebih banyak dari perempuan. Total yang meninggal pada perempuan ada 34 orang dari 105 wanita dan laki-laki yang meninggal sejumlah 62 laki-laki dari 194 laki-laki. Bisa kita simpulkan 31% dari pasien laki-laki yang telah dicatatkan meninggal dari keseluruhan populasi laki-laki pada data dan 32% dari pasien wanita yang meninggal dari keseluruhan populasi wanita pada data.\n",
    "\n",
    "     **\"Diabetes tidak berhubungan langsung dengan anemia. namun pada diabetes, maka penyakit diabetes dapat merusak pembuluh darah pada tubuh dan dapat menyebabkan gangguan ginjal dalam jangka waktu yang lama jika tidak dikontrol. Gangguan fungsi ginjal tersebut dapat menyebabkan terjadinya anemia\". (sumber: alodokter.com).**\n",
    "     \n",
    "\n",
    "- Jika kita lihat pada grafik jumlah yang terkena anaemia dan diabetes hampir serupa, berdasarkan dari informasi dari alodokter.com, bahwa penderita diabetes bisa terkena anemia. Bisa kita simpulkan banyak pasien dari data kita yang meninggal dengan mengidap kedua penyakit tersebut.\n",
    "\n",
    "    **\"Nikotin di dalam rokok dapat menyebabkan peningkatan tekanan darah dan frekuensi denyut jantung. Ketika masuk ke dalam tubuh, nikotin akan memberi sinyal pada otak untuk melepaskan hormon adrenalin. Hormon ini akan membuat diameter pembuluh darah menjadi mengecil sehingga berisiko terjadinya peningkatan tekanan darah. Lebih jauh lagi, zat berbahaya tersebut dapat menimbulkan kerusakan pada dinding pembuluh darah\". (sumber: klikdokter.com).**\n",
    "\n",
    "    **\"Pasien dengan diabetes memiliki risiko lebih tinggi terhadap penyakit kardiovaskuler dan merokok bisa meningkatkan risiko tersebut. Karena itu semua orang baik yang diabetes atau tidak harus berhenti merokok,\" ujar Dr Joel Zonszein, direktur dari Clinical Diabetes Center di Montefiore Medical Center, New York City (Sumber : health.detik.com).**\n",
    "    \n",
    "\n",
    "- Jika dilihat dari grafik yang merokok dengan tekanan darah tinggi, grafik menunjukkan jumlah yang hampir serupa menandakan ada hubungannya antara perokok dengan tekanan darah tinggi, dari artikel health.detik.com dan klikdokter.com, ternyata memperkuat hipotesa kita bahwa perokok dapat menyebabkan tekanan darah tinggi ataupun diabetes. Dari kesimpulan tersebut merokok tidak menyebabkan kematian, tetapi menyebabkan penyakit penyebab kematian.\n",
    "\n",
    "\n",
    "- Ejection Fraction menggambarkan persentase darah yang dipompa keluar oleh ruang jantung kiri saat berkontraksi, dengan nilai normalnya 55-70%. Dari grafik yang kita miliki bahwa rata-rata kebanyakan pasien memiliki persentase di 35%, sedangkan yang meninggal banyak di persentase 25% yang mana jauh dari batas normal. Jika dilihat persentase di atas 50% atau normal sangat sedikit yang meninggal dibandingkan yang dibawah normal. Kita mengetahui bahwa Ejection Fraction sangat berpengaruh ke jumlah kematian seseorang."
   ]
  },
  {
   "cell_type": "code",
   "execution_count": 11,
   "id": "0efc7d32",
   "metadata": {
    "scrolled": false
   },
   "outputs": [
    {
     "data": {
      "image/png": "[encoded data removed]",
      "text/plain": [
       "<Figure size 720x432 with 1 Axes>"
      ]
     },
     "metadata": {
      "needs_background": "light"
     },
     "output_type": "display_data"
    },
    {
     "data": {
      "image/png": "[encoded data removed]",
      "text/plain": [
       "<Figure size 720x432 with 1 Axes>"
      ]
     },
     "metadata": {
      "needs_background": "light"
     },
     "output_type": "display_data"
    },
    {
     "data": {
      "image/png": "[encoded data removed]",
      "text/plain": [
       "<Figure size 720x432 with 1 Axes>"
      ]
     },
     "metadata": {
      "needs_background": "light"
     },
     "output_type": "display_data"
    }
   ],
   "source": [
    "# Create Scatter Plot\n",
    "\n",
    "dat_n = ['age','serum_sodium','serum_creatinine']\n",
    "\n",
    "for coln in dat_n:\n",
    "    plt.figure(figsize=(10,6))\n",
    "    plt.rc('xtick', labelsize=10) \n",
    "    plt.rc('ytick', labelsize=10)\n",
    "    plt.rcParams.update({'font.size': 10})\n",
    "    sns.scatterplot(x=data[coln], y='time' , hue='DEATH_EVENT', palette=('g','r'), data=data)\n",
    "    plt.legend(labels=[\"Meninggal\", \"Tidak Meninggal\"])"
   ]
  },
  {
   "cell_type": "markdown",
   "id": "055371d3",
   "metadata": {},
   "source": [
    "- Pada penyebaran umur dengan waktu kematian, kita ketahui bahwa umur sangat berpengaruh dengan ketahanan dari penyakit. Dari umur termuda hingga umur 75 tahun ketahanan hidup masih cukup lama dibandingkan yang sudah berumur di atas 75 tahun, pasien di atas umur tersebut lebih rentan meninggal jika terkena penyakit.\n",
    "\n",
    "- Normalnya serum sodium antara 135 and 145 milliequivalents per liter (mEq/L). Jika dilihat bahwa jika jauh di luar batas normal, kematian akan semakin cepat. Tetapi jika kita lihat pada data, di jangakuan batas normal banyak terjadi kematian. Ada kemungkinan walaupun dalam batas normal tetapi pasien memiliki kadar serum ceratine di luar batas normal ataupun pasien terkena penyakit lain.\n",
    "\n",
    "- Normalnya serum creatinine adalah untuk Laki-laki dewasa dari 0.74 - 1.35 mg/dL dan untuk wanita dewasa dari 0.59 - 1.04 mg/dL. pada grafik rata-rata yang meninggal sudah melewati batas normal. Tetapi jika sudah terlampau jauh dari batas normal waktu kematian akan lebih cepat. Dari informasi ini kita ketaui bahwa serum creatinine berpengaruh dengan kematian seseorang."
   ]
  },
  {
   "cell_type": "markdown",
   "id": "e2c69c97",
   "metadata": {},
   "source": [
    "# 5 - Data Preprocessing"
   ]
  },
  {
   "cell_type": "markdown",
   "id": "6c1ec761",
   "metadata": {},
   "source": [
    "### Data Inference"
   ]
  },
  {
   "cell_type": "code",
   "execution_count": 12,
   "id": "0b3825df",
   "metadata": {
    "scrolled": true
   },
   "outputs": [
    {
     "data": {
      "text/html": [
       "<div>\n",
       "<style scoped>\n",
       "    .dataframe tbody tr th:only-of-type {\n",
       "        vertical-align: middle;\n",
       "    }\n",
       "\n",
       "    .dataframe tbody tr th {\n",
       "        vertical-align: top;\n",
       "    }\n",
       "\n",
       "    .dataframe thead th {\n",
       "        text-align: right;\n",
       "    }\n",
       "</style>\n",
       "<table border=\"1\" class=\"dataframe\">\n",
       "  <thead>\n",
       "    <tr style=\"text-align: right;\">\n",
       "      <th></th>\n",
       "      <th>age</th>\n",
       "      <th>anaemia</th>\n",
       "      <th>creatinine_phosphokinase</th>\n",
       "      <th>diabetes</th>\n",
       "      <th>ejection_fraction</th>\n",
       "      <th>high_blood_pressure</th>\n",
       "      <th>platelets</th>\n",
       "      <th>serum_creatinine</th>\n",
       "      <th>serum_sodium</th>\n",
       "      <th>sex</th>\n",
       "      <th>smoking</th>\n",
       "      <th>time</th>\n",
       "      <th>DEATH_EVENT</th>\n",
       "    </tr>\n",
       "  </thead>\n",
       "  <tbody>\n",
       "    <tr>\n",
       "      <th>121</th>\n",
       "      <td>73.0</td>\n",
       "      <td>0</td>\n",
       "      <td>582</td>\n",
       "      <td>0</td>\n",
       "      <td>20</td>\n",
       "      <td>0</td>\n",
       "      <td>263358.03</td>\n",
       "      <td>1.83</td>\n",
       "      <td>134</td>\n",
       "      <td>1</td>\n",
       "      <td>0</td>\n",
       "      <td>198</td>\n",
       "      <td>1</td>\n",
       "    </tr>\n",
       "    <tr>\n",
       "      <th>94</th>\n",
       "      <td>65.0</td>\n",
       "      <td>1</td>\n",
       "      <td>113</td>\n",
       "      <td>1</td>\n",
       "      <td>60</td>\n",
       "      <td>1</td>\n",
       "      <td>203000.00</td>\n",
       "      <td>0.90</td>\n",
       "      <td>140</td>\n",
       "      <td>0</td>\n",
       "      <td>0</td>\n",
       "      <td>94</td>\n",
       "      <td>0</td>\n",
       "    </tr>\n",
       "    <tr>\n",
       "      <th>138</th>\n",
       "      <td>50.0</td>\n",
       "      <td>0</td>\n",
       "      <td>250</td>\n",
       "      <td>0</td>\n",
       "      <td>25</td>\n",
       "      <td>0</td>\n",
       "      <td>262000.00</td>\n",
       "      <td>1.00</td>\n",
       "      <td>136</td>\n",
       "      <td>1</td>\n",
       "      <td>1</td>\n",
       "      <td>120</td>\n",
       "      <td>0</td>\n",
       "    </tr>\n",
       "    <tr>\n",
       "      <th>288</th>\n",
       "      <td>63.0</td>\n",
       "      <td>0</td>\n",
       "      <td>193</td>\n",
       "      <td>0</td>\n",
       "      <td>60</td>\n",
       "      <td>1</td>\n",
       "      <td>295000.00</td>\n",
       "      <td>1.30</td>\n",
       "      <td>145</td>\n",
       "      <td>1</td>\n",
       "      <td>1</td>\n",
       "      <td>107</td>\n",
       "      <td>0</td>\n",
       "    </tr>\n",
       "    <tr>\n",
       "      <th>139</th>\n",
       "      <td>59.0</td>\n",
       "      <td>1</td>\n",
       "      <td>176</td>\n",
       "      <td>1</td>\n",
       "      <td>25</td>\n",
       "      <td>0</td>\n",
       "      <td>221000.00</td>\n",
       "      <td>1.00</td>\n",
       "      <td>136</td>\n",
       "      <td>1</td>\n",
       "      <td>1</td>\n",
       "      <td>150</td>\n",
       "      <td>1</td>\n",
       "    </tr>\n",
       "    <tr>\n",
       "      <th>13</th>\n",
       "      <td>72.0</td>\n",
       "      <td>0</td>\n",
       "      <td>211</td>\n",
       "      <td>0</td>\n",
       "      <td>25</td>\n",
       "      <td>0</td>\n",
       "      <td>274000.00</td>\n",
       "      <td>1.20</td>\n",
       "      <td>134</td>\n",
       "      <td>0</td>\n",
       "      <td>0</td>\n",
       "      <td>207</td>\n",
       "      <td>0</td>\n",
       "    </tr>\n",
       "    <tr>\n",
       "      <th>230</th>\n",
       "      <td>90.0</td>\n",
       "      <td>1</td>\n",
       "      <td>47</td>\n",
       "      <td>0</td>\n",
       "      <td>40</td>\n",
       "      <td>1</td>\n",
       "      <td>204000.00</td>\n",
       "      <td>2.10</td>\n",
       "      <td>132</td>\n",
       "      <td>1</td>\n",
       "      <td>1</td>\n",
       "      <td>8</td>\n",
       "      <td>1</td>\n",
       "    </tr>\n",
       "    <tr>\n",
       "      <th>165</th>\n",
       "      <td>65.0</td>\n",
       "      <td>0</td>\n",
       "      <td>582</td>\n",
       "      <td>1</td>\n",
       "      <td>30</td>\n",
       "      <td>0</td>\n",
       "      <td>249000.00</td>\n",
       "      <td>1.30</td>\n",
       "      <td>136</td>\n",
       "      <td>1</td>\n",
       "      <td>1</td>\n",
       "      <td>212</td>\n",
       "      <td>0</td>\n",
       "    </tr>\n",
       "    <tr>\n",
       "      <th>58</th>\n",
       "      <td>50.0</td>\n",
       "      <td>0</td>\n",
       "      <td>318</td>\n",
       "      <td>0</td>\n",
       "      <td>40</td>\n",
       "      <td>1</td>\n",
       "      <td>216000.00</td>\n",
       "      <td>2.30</td>\n",
       "      <td>131</td>\n",
       "      <td>0</td>\n",
       "      <td>0</td>\n",
       "      <td>60</td>\n",
       "      <td>1</td>\n",
       "    </tr>\n",
       "    <tr>\n",
       "      <th>122</th>\n",
       "      <td>55.0</td>\n",
       "      <td>0</td>\n",
       "      <td>1199</td>\n",
       "      <td>0</td>\n",
       "      <td>20</td>\n",
       "      <td>0</td>\n",
       "      <td>263358.03</td>\n",
       "      <td>1.83</td>\n",
       "      <td>134</td>\n",
       "      <td>1</td>\n",
       "      <td>1</td>\n",
       "      <td>241</td>\n",
       "      <td>1</td>\n",
       "    </tr>\n",
       "  </tbody>\n",
       "</table>\n",
       "</div>"
      ],
      "text/plain": [
       "      age  anaemia  creatinine_phosphokinase  diabetes  ejection_fraction  \\\n",
       "121  73.0        0                       582         0                 20   \n",
       "94   65.0        1                       113         1                 60   \n",
       "138  50.0        0                       250         0                 25   \n",
       "288  63.0        0                       193         0                 60   \n",
       "139  59.0        1                       176         1                 25   \n",
       "13   72.0        0                       211         0                 25   \n",
       "230  90.0        1                        47         0                 40   \n",
       "165  65.0        0                       582         1                 30   \n",
       "58   50.0        0                       318         0                 40   \n",
       "122  55.0        0                      1199         0                 20   \n",
       "\n",
       "     high_blood_pressure  platelets  serum_creatinine  serum_sodium  sex  \\\n",
       "121                    0  263358.03              1.83           134    1   \n",
       "94                     1  203000.00              0.90           140    0   \n",
       "138                    0  262000.00              1.00           136    1   \n",
       "288                    1  295000.00              1.30           145    1   \n",
       "139                    0  221000.00              1.00           136    1   \n",
       "13                     0  274000.00              1.20           134    0   \n",
       "230                    1  204000.00              2.10           132    1   \n",
       "165                    0  249000.00              1.30           136    1   \n",
       "58                     1  216000.00              2.30           131    0   \n",
       "122                    0  263358.03              1.83           134    1   \n",
       "\n",
       "     smoking  time  DEATH_EVENT  \n",
       "121        0   198            1  \n",
       "94         0    94            0  \n",
       "138        1   120            0  \n",
       "288        1   107            0  \n",
       "139        1   150            1  \n",
       "13         0   207            0  \n",
       "230        1     8            1  \n",
       "165        1   212            0  \n",
       "58         0    60            1  \n",
       "122        1   241            1  "
      ]
     },
     "execution_count": 12,
     "metadata": {},
     "output_type": "execute_result"
    }
   ],
   "source": [
    "# Get Data Inference\n",
    "\n",
    "df_inf = data.sample(10,random_state=17)\n",
    "df_inf"
   ]
  },
  {
   "cell_type": "code",
   "execution_count": 13,
   "id": "ca7f12ef",
   "metadata": {},
   "outputs": [
    {
     "data": {
      "text/html": [
       "<div>\n",
       "<style scoped>\n",
       "    .dataframe tbody tr th:only-of-type {\n",
       "        vertical-align: middle;\n",
       "    }\n",
       "\n",
       "    .dataframe tbody tr th {\n",
       "        vertical-align: top;\n",
       "    }\n",
       "\n",
       "    .dataframe thead th {\n",
       "        text-align: right;\n",
       "    }\n",
       "</style>\n",
       "<table border=\"1\" class=\"dataframe\">\n",
       "  <thead>\n",
       "    <tr style=\"text-align: right;\">\n",
       "      <th></th>\n",
       "      <th>age</th>\n",
       "      <th>anaemia</th>\n",
       "      <th>creatinine_phosphokinase</th>\n",
       "      <th>diabetes</th>\n",
       "      <th>ejection_fraction</th>\n",
       "      <th>high_blood_pressure</th>\n",
       "      <th>platelets</th>\n",
       "      <th>serum_creatinine</th>\n",
       "      <th>serum_sodium</th>\n",
       "      <th>sex</th>\n",
       "      <th>smoking</th>\n",
       "      <th>time</th>\n",
       "      <th>DEATH_EVENT</th>\n",
       "    </tr>\n",
       "  </thead>\n",
       "  <tbody>\n",
       "    <tr>\n",
       "      <th>0</th>\n",
       "      <td>42.0</td>\n",
       "      <td>1</td>\n",
       "      <td>250</td>\n",
       "      <td>1</td>\n",
       "      <td>15</td>\n",
       "      <td>0</td>\n",
       "      <td>213000.00</td>\n",
       "      <td>1.3</td>\n",
       "      <td>136</td>\n",
       "      <td>0</td>\n",
       "      <td>0</td>\n",
       "      <td>65</td>\n",
       "      <td>1</td>\n",
       "    </tr>\n",
       "    <tr>\n",
       "      <th>1</th>\n",
       "      <td>46.0</td>\n",
       "      <td>0</td>\n",
       "      <td>168</td>\n",
       "      <td>1</td>\n",
       "      <td>17</td>\n",
       "      <td>1</td>\n",
       "      <td>271000.00</td>\n",
       "      <td>2.1</td>\n",
       "      <td>124</td>\n",
       "      <td>0</td>\n",
       "      <td>0</td>\n",
       "      <td>100</td>\n",
       "      <td>1</td>\n",
       "    </tr>\n",
       "    <tr>\n",
       "      <th>2</th>\n",
       "      <td>65.0</td>\n",
       "      <td>1</td>\n",
       "      <td>160</td>\n",
       "      <td>1</td>\n",
       "      <td>20</td>\n",
       "      <td>0</td>\n",
       "      <td>327000.00</td>\n",
       "      <td>2.7</td>\n",
       "      <td>116</td>\n",
       "      <td>0</td>\n",
       "      <td>0</td>\n",
       "      <td>8</td>\n",
       "      <td>1</td>\n",
       "    </tr>\n",
       "    <tr>\n",
       "      <th>3</th>\n",
       "      <td>53.0</td>\n",
       "      <td>1</td>\n",
       "      <td>91</td>\n",
       "      <td>0</td>\n",
       "      <td>20</td>\n",
       "      <td>1</td>\n",
       "      <td>418000.00</td>\n",
       "      <td>1.4</td>\n",
       "      <td>139</td>\n",
       "      <td>0</td>\n",
       "      <td>0</td>\n",
       "      <td>43</td>\n",
       "      <td>1</td>\n",
       "    </tr>\n",
       "    <tr>\n",
       "      <th>4</th>\n",
       "      <td>50.0</td>\n",
       "      <td>1</td>\n",
       "      <td>582</td>\n",
       "      <td>1</td>\n",
       "      <td>20</td>\n",
       "      <td>1</td>\n",
       "      <td>279000.00</td>\n",
       "      <td>1.0</td>\n",
       "      <td>134</td>\n",
       "      <td>0</td>\n",
       "      <td>0</td>\n",
       "      <td>186</td>\n",
       "      <td>0</td>\n",
       "    </tr>\n",
       "    <tr>\n",
       "      <th>...</th>\n",
       "      <td>...</td>\n",
       "      <td>...</td>\n",
       "      <td>...</td>\n",
       "      <td>...</td>\n",
       "      <td>...</td>\n",
       "      <td>...</td>\n",
       "      <td>...</td>\n",
       "      <td>...</td>\n",
       "      <td>...</td>\n",
       "      <td>...</td>\n",
       "      <td>...</td>\n",
       "      <td>...</td>\n",
       "      <td>...</td>\n",
       "    </tr>\n",
       "    <tr>\n",
       "      <th>294</th>\n",
       "      <td>63.0</td>\n",
       "      <td>1</td>\n",
       "      <td>122</td>\n",
       "      <td>1</td>\n",
       "      <td>60</td>\n",
       "      <td>0</td>\n",
       "      <td>267000.00</td>\n",
       "      <td>1.2</td>\n",
       "      <td>145</td>\n",
       "      <td>1</td>\n",
       "      <td>0</td>\n",
       "      <td>147</td>\n",
       "      <td>0</td>\n",
       "    </tr>\n",
       "    <tr>\n",
       "      <th>295</th>\n",
       "      <td>45.0</td>\n",
       "      <td>0</td>\n",
       "      <td>308</td>\n",
       "      <td>1</td>\n",
       "      <td>60</td>\n",
       "      <td>1</td>\n",
       "      <td>377000.00</td>\n",
       "      <td>1.0</td>\n",
       "      <td>136</td>\n",
       "      <td>1</td>\n",
       "      <td>0</td>\n",
       "      <td>186</td>\n",
       "      <td>0</td>\n",
       "    </tr>\n",
       "    <tr>\n",
       "      <th>296</th>\n",
       "      <td>70.0</td>\n",
       "      <td>0</td>\n",
       "      <td>97</td>\n",
       "      <td>0</td>\n",
       "      <td>60</td>\n",
       "      <td>1</td>\n",
       "      <td>220000.00</td>\n",
       "      <td>0.9</td>\n",
       "      <td>138</td>\n",
       "      <td>1</td>\n",
       "      <td>0</td>\n",
       "      <td>186</td>\n",
       "      <td>0</td>\n",
       "    </tr>\n",
       "    <tr>\n",
       "      <th>297</th>\n",
       "      <td>53.0</td>\n",
       "      <td>1</td>\n",
       "      <td>446</td>\n",
       "      <td>0</td>\n",
       "      <td>60</td>\n",
       "      <td>1</td>\n",
       "      <td>263358.03</td>\n",
       "      <td>1.0</td>\n",
       "      <td>139</td>\n",
       "      <td>1</td>\n",
       "      <td>0</td>\n",
       "      <td>215</td>\n",
       "      <td>0</td>\n",
       "    </tr>\n",
       "    <tr>\n",
       "      <th>298</th>\n",
       "      <td>50.0</td>\n",
       "      <td>0</td>\n",
       "      <td>582</td>\n",
       "      <td>0</td>\n",
       "      <td>62</td>\n",
       "      <td>1</td>\n",
       "      <td>147000.00</td>\n",
       "      <td>0.8</td>\n",
       "      <td>140</td>\n",
       "      <td>1</td>\n",
       "      <td>1</td>\n",
       "      <td>192</td>\n",
       "      <td>0</td>\n",
       "    </tr>\n",
       "  </tbody>\n",
       "</table>\n",
       "<p>289 rows × 13 columns</p>\n",
       "</div>"
      ],
      "text/plain": [
       "      age  anaemia  creatinine_phosphokinase  diabetes  ejection_fraction  \\\n",
       "0    42.0        1                       250         1                 15   \n",
       "1    46.0        0                       168         1                 17   \n",
       "2    65.0        1                       160         1                 20   \n",
       "3    53.0        1                        91         0                 20   \n",
       "4    50.0        1                       582         1                 20   \n",
       "..    ...      ...                       ...       ...                ...   \n",
       "294  63.0        1                       122         1                 60   \n",
       "295  45.0        0                       308         1                 60   \n",
       "296  70.0        0                        97         0                 60   \n",
       "297  53.0        1                       446         0                 60   \n",
       "298  50.0        0                       582         0                 62   \n",
       "\n",
       "     high_blood_pressure  platelets  serum_creatinine  serum_sodium  sex  \\\n",
       "0                      0  213000.00               1.3           136    0   \n",
       "1                      1  271000.00               2.1           124    0   \n",
       "2                      0  327000.00               2.7           116    0   \n",
       "3                      1  418000.00               1.4           139    0   \n",
       "4                      1  279000.00               1.0           134    0   \n",
       "..                   ...        ...               ...           ...  ...   \n",
       "294                    0  267000.00               1.2           145    1   \n",
       "295                    1  377000.00               1.0           136    1   \n",
       "296                    1  220000.00               0.9           138    1   \n",
       "297                    1  263358.03               1.0           139    1   \n",
       "298                    1  147000.00               0.8           140    1   \n",
       "\n",
       "     smoking  time  DEATH_EVENT  \n",
       "0          0    65            1  \n",
       "1          0   100            1  \n",
       "2          0     8            1  \n",
       "3          0    43            1  \n",
       "4          0   186            0  \n",
       "..       ...   ...          ...  \n",
       "294        0   147            0  \n",
       "295        0   186            0  \n",
       "296        0   186            0  \n",
       "297        0   215            0  \n",
       "298        1   192            0  \n",
       "\n",
       "[289 rows x 13 columns]"
      ]
     },
     "execution_count": 13,
     "metadata": {},
     "output_type": "execute_result"
    }
   ],
   "source": [
    "# Remove Inference-Set from Data-Set\n",
    "\n",
    "df_tr_ts = data.drop(df_inf.index)\n",
    "df_tr_ts"
   ]
  },
  {
   "cell_type": "code",
   "execution_count": 14,
   "id": "c4980137",
   "metadata": {
    "scrolled": true
   },
   "outputs": [
    {
     "data": {
      "text/html": [
       "<div>\n",
       "<style scoped>\n",
       "    .dataframe tbody tr th:only-of-type {\n",
       "        vertical-align: middle;\n",
       "    }\n",
       "\n",
       "    .dataframe tbody tr th {\n",
       "        vertical-align: top;\n",
       "    }\n",
       "\n",
       "    .dataframe thead th {\n",
       "        text-align: right;\n",
       "    }\n",
       "</style>\n",
       "<table border=\"1\" class=\"dataframe\">\n",
       "  <thead>\n",
       "    <tr style=\"text-align: right;\">\n",
       "      <th></th>\n",
       "      <th>age</th>\n",
       "      <th>anaemia</th>\n",
       "      <th>creatinine_phosphokinase</th>\n",
       "      <th>diabetes</th>\n",
       "      <th>ejection_fraction</th>\n",
       "      <th>high_blood_pressure</th>\n",
       "      <th>platelets</th>\n",
       "      <th>serum_creatinine</th>\n",
       "      <th>serum_sodium</th>\n",
       "      <th>sex</th>\n",
       "      <th>smoking</th>\n",
       "      <th>time</th>\n",
       "      <th>DEATH_EVENT</th>\n",
       "    </tr>\n",
       "  </thead>\n",
       "  <tbody>\n",
       "    <tr>\n",
       "      <th>0</th>\n",
       "      <td>73.0</td>\n",
       "      <td>0</td>\n",
       "      <td>582</td>\n",
       "      <td>0</td>\n",
       "      <td>20</td>\n",
       "      <td>0</td>\n",
       "      <td>263358.03</td>\n",
       "      <td>1.83</td>\n",
       "      <td>134</td>\n",
       "      <td>1</td>\n",
       "      <td>0</td>\n",
       "      <td>198</td>\n",
       "      <td>1</td>\n",
       "    </tr>\n",
       "    <tr>\n",
       "      <th>1</th>\n",
       "      <td>65.0</td>\n",
       "      <td>1</td>\n",
       "      <td>113</td>\n",
       "      <td>1</td>\n",
       "      <td>60</td>\n",
       "      <td>1</td>\n",
       "      <td>203000.00</td>\n",
       "      <td>0.90</td>\n",
       "      <td>140</td>\n",
       "      <td>0</td>\n",
       "      <td>0</td>\n",
       "      <td>94</td>\n",
       "      <td>0</td>\n",
       "    </tr>\n",
       "    <tr>\n",
       "      <th>2</th>\n",
       "      <td>50.0</td>\n",
       "      <td>0</td>\n",
       "      <td>250</td>\n",
       "      <td>0</td>\n",
       "      <td>25</td>\n",
       "      <td>0</td>\n",
       "      <td>262000.00</td>\n",
       "      <td>1.00</td>\n",
       "      <td>136</td>\n",
       "      <td>1</td>\n",
       "      <td>1</td>\n",
       "      <td>120</td>\n",
       "      <td>0</td>\n",
       "    </tr>\n",
       "    <tr>\n",
       "      <th>3</th>\n",
       "      <td>63.0</td>\n",
       "      <td>0</td>\n",
       "      <td>193</td>\n",
       "      <td>0</td>\n",
       "      <td>60</td>\n",
       "      <td>1</td>\n",
       "      <td>295000.00</td>\n",
       "      <td>1.30</td>\n",
       "      <td>145</td>\n",
       "      <td>1</td>\n",
       "      <td>1</td>\n",
       "      <td>107</td>\n",
       "      <td>0</td>\n",
       "    </tr>\n",
       "    <tr>\n",
       "      <th>4</th>\n",
       "      <td>59.0</td>\n",
       "      <td>1</td>\n",
       "      <td>176</td>\n",
       "      <td>1</td>\n",
       "      <td>25</td>\n",
       "      <td>0</td>\n",
       "      <td>221000.00</td>\n",
       "      <td>1.00</td>\n",
       "      <td>136</td>\n",
       "      <td>1</td>\n",
       "      <td>1</td>\n",
       "      <td>150</td>\n",
       "      <td>1</td>\n",
       "    </tr>\n",
       "    <tr>\n",
       "      <th>5</th>\n",
       "      <td>72.0</td>\n",
       "      <td>0</td>\n",
       "      <td>211</td>\n",
       "      <td>0</td>\n",
       "      <td>25</td>\n",
       "      <td>0</td>\n",
       "      <td>274000.00</td>\n",
       "      <td>1.20</td>\n",
       "      <td>134</td>\n",
       "      <td>0</td>\n",
       "      <td>0</td>\n",
       "      <td>207</td>\n",
       "      <td>0</td>\n",
       "    </tr>\n",
       "    <tr>\n",
       "      <th>6</th>\n",
       "      <td>90.0</td>\n",
       "      <td>1</td>\n",
       "      <td>47</td>\n",
       "      <td>0</td>\n",
       "      <td>40</td>\n",
       "      <td>1</td>\n",
       "      <td>204000.00</td>\n",
       "      <td>2.10</td>\n",
       "      <td>132</td>\n",
       "      <td>1</td>\n",
       "      <td>1</td>\n",
       "      <td>8</td>\n",
       "      <td>1</td>\n",
       "    </tr>\n",
       "    <tr>\n",
       "      <th>7</th>\n",
       "      <td>65.0</td>\n",
       "      <td>0</td>\n",
       "      <td>582</td>\n",
       "      <td>1</td>\n",
       "      <td>30</td>\n",
       "      <td>0</td>\n",
       "      <td>249000.00</td>\n",
       "      <td>1.30</td>\n",
       "      <td>136</td>\n",
       "      <td>1</td>\n",
       "      <td>1</td>\n",
       "      <td>212</td>\n",
       "      <td>0</td>\n",
       "    </tr>\n",
       "    <tr>\n",
       "      <th>8</th>\n",
       "      <td>50.0</td>\n",
       "      <td>0</td>\n",
       "      <td>318</td>\n",
       "      <td>0</td>\n",
       "      <td>40</td>\n",
       "      <td>1</td>\n",
       "      <td>216000.00</td>\n",
       "      <td>2.30</td>\n",
       "      <td>131</td>\n",
       "      <td>0</td>\n",
       "      <td>0</td>\n",
       "      <td>60</td>\n",
       "      <td>1</td>\n",
       "    </tr>\n",
       "    <tr>\n",
       "      <th>9</th>\n",
       "      <td>55.0</td>\n",
       "      <td>0</td>\n",
       "      <td>1199</td>\n",
       "      <td>0</td>\n",
       "      <td>20</td>\n",
       "      <td>0</td>\n",
       "      <td>263358.03</td>\n",
       "      <td>1.83</td>\n",
       "      <td>134</td>\n",
       "      <td>1</td>\n",
       "      <td>1</td>\n",
       "      <td>241</td>\n",
       "      <td>1</td>\n",
       "    </tr>\n",
       "  </tbody>\n",
       "</table>\n",
       "</div>"
      ],
      "text/plain": [
       "    age  anaemia  creatinine_phosphokinase  diabetes  ejection_fraction  \\\n",
       "0  73.0        0                       582         0                 20   \n",
       "1  65.0        1                       113         1                 60   \n",
       "2  50.0        0                       250         0                 25   \n",
       "3  63.0        0                       193         0                 60   \n",
       "4  59.0        1                       176         1                 25   \n",
       "5  72.0        0                       211         0                 25   \n",
       "6  90.0        1                        47         0                 40   \n",
       "7  65.0        0                       582         1                 30   \n",
       "8  50.0        0                       318         0                 40   \n",
       "9  55.0        0                      1199         0                 20   \n",
       "\n",
       "   high_blood_pressure  platelets  serum_creatinine  serum_sodium  sex  \\\n",
       "0                    0  263358.03              1.83           134    1   \n",
       "1                    1  203000.00              0.90           140    0   \n",
       "2                    0  262000.00              1.00           136    1   \n",
       "3                    1  295000.00              1.30           145    1   \n",
       "4                    0  221000.00              1.00           136    1   \n",
       "5                    0  274000.00              1.20           134    0   \n",
       "6                    1  204000.00              2.10           132    1   \n",
       "7                    0  249000.00              1.30           136    1   \n",
       "8                    1  216000.00              2.30           131    0   \n",
       "9                    0  263358.03              1.83           134    1   \n",
       "\n",
       "   smoking  time  DEATH_EVENT  \n",
       "0        0   198            1  \n",
       "1        0    94            0  \n",
       "2        1   120            0  \n",
       "3        1   107            0  \n",
       "4        1   150            1  \n",
       "5        0   207            0  \n",
       "6        1     8            1  \n",
       "7        1   212            0  \n",
       "8        0    60            1  \n",
       "9        1   241            1  "
      ]
     },
     "execution_count": 14,
     "metadata": {},
     "output_type": "execute_result"
    }
   ],
   "source": [
    "# Reset index data inference and data-set\n",
    "\n",
    "df_tr_ts.reset_index(drop=True, inplace=True)\n",
    "df_inf.reset_index(drop=True, inplace=True)\n",
    "df_inf"
   ]
  },
  {
   "cell_type": "markdown",
   "id": "af883794",
   "metadata": {},
   "source": [
    "### Data Train and Test"
   ]
  },
  {
   "cell_type": "code",
   "execution_count": 15,
   "id": "03cad443",
   "metadata": {},
   "outputs": [
    {
     "data": {
      "text/html": [
       "<div>\n",
       "<style scoped>\n",
       "    .dataframe tbody tr th:only-of-type {\n",
       "        vertical-align: middle;\n",
       "    }\n",
       "\n",
       "    .dataframe tbody tr th {\n",
       "        vertical-align: top;\n",
       "    }\n",
       "\n",
       "    .dataframe thead th {\n",
       "        text-align: right;\n",
       "    }\n",
       "</style>\n",
       "<table border=\"1\" class=\"dataframe\">\n",
       "  <thead>\n",
       "    <tr style=\"text-align: right;\">\n",
       "      <th></th>\n",
       "      <th>age</th>\n",
       "      <th>anaemia</th>\n",
       "      <th>creatinine_phosphokinase</th>\n",
       "      <th>diabetes</th>\n",
       "      <th>ejection_fraction</th>\n",
       "      <th>high_blood_pressure</th>\n",
       "      <th>platelets</th>\n",
       "      <th>serum_creatinine</th>\n",
       "      <th>serum_sodium</th>\n",
       "      <th>sex</th>\n",
       "      <th>smoking</th>\n",
       "      <th>time</th>\n",
       "    </tr>\n",
       "  </thead>\n",
       "  <tbody>\n",
       "    <tr>\n",
       "      <th>0</th>\n",
       "      <td>42.0</td>\n",
       "      <td>1</td>\n",
       "      <td>250</td>\n",
       "      <td>1</td>\n",
       "      <td>15</td>\n",
       "      <td>0</td>\n",
       "      <td>213000.00</td>\n",
       "      <td>1.3</td>\n",
       "      <td>136</td>\n",
       "      <td>0</td>\n",
       "      <td>0</td>\n",
       "      <td>65</td>\n",
       "    </tr>\n",
       "    <tr>\n",
       "      <th>1</th>\n",
       "      <td>46.0</td>\n",
       "      <td>0</td>\n",
       "      <td>168</td>\n",
       "      <td>1</td>\n",
       "      <td>17</td>\n",
       "      <td>1</td>\n",
       "      <td>271000.00</td>\n",
       "      <td>2.1</td>\n",
       "      <td>124</td>\n",
       "      <td>0</td>\n",
       "      <td>0</td>\n",
       "      <td>100</td>\n",
       "    </tr>\n",
       "    <tr>\n",
       "      <th>2</th>\n",
       "      <td>65.0</td>\n",
       "      <td>1</td>\n",
       "      <td>160</td>\n",
       "      <td>1</td>\n",
       "      <td>20</td>\n",
       "      <td>0</td>\n",
       "      <td>327000.00</td>\n",
       "      <td>2.7</td>\n",
       "      <td>116</td>\n",
       "      <td>0</td>\n",
       "      <td>0</td>\n",
       "      <td>8</td>\n",
       "    </tr>\n",
       "    <tr>\n",
       "      <th>3</th>\n",
       "      <td>53.0</td>\n",
       "      <td>1</td>\n",
       "      <td>91</td>\n",
       "      <td>0</td>\n",
       "      <td>20</td>\n",
       "      <td>1</td>\n",
       "      <td>418000.00</td>\n",
       "      <td>1.4</td>\n",
       "      <td>139</td>\n",
       "      <td>0</td>\n",
       "      <td>0</td>\n",
       "      <td>43</td>\n",
       "    </tr>\n",
       "    <tr>\n",
       "      <th>4</th>\n",
       "      <td>50.0</td>\n",
       "      <td>1</td>\n",
       "      <td>582</td>\n",
       "      <td>1</td>\n",
       "      <td>20</td>\n",
       "      <td>1</td>\n",
       "      <td>279000.00</td>\n",
       "      <td>1.0</td>\n",
       "      <td>134</td>\n",
       "      <td>0</td>\n",
       "      <td>0</td>\n",
       "      <td>186</td>\n",
       "    </tr>\n",
       "    <tr>\n",
       "      <th>...</th>\n",
       "      <td>...</td>\n",
       "      <td>...</td>\n",
       "      <td>...</td>\n",
       "      <td>...</td>\n",
       "      <td>...</td>\n",
       "      <td>...</td>\n",
       "      <td>...</td>\n",
       "      <td>...</td>\n",
       "      <td>...</td>\n",
       "      <td>...</td>\n",
       "      <td>...</td>\n",
       "      <td>...</td>\n",
       "    </tr>\n",
       "    <tr>\n",
       "      <th>284</th>\n",
       "      <td>63.0</td>\n",
       "      <td>1</td>\n",
       "      <td>122</td>\n",
       "      <td>1</td>\n",
       "      <td>60</td>\n",
       "      <td>0</td>\n",
       "      <td>267000.00</td>\n",
       "      <td>1.2</td>\n",
       "      <td>145</td>\n",
       "      <td>1</td>\n",
       "      <td>0</td>\n",
       "      <td>147</td>\n",
       "    </tr>\n",
       "    <tr>\n",
       "      <th>285</th>\n",
       "      <td>45.0</td>\n",
       "      <td>0</td>\n",
       "      <td>308</td>\n",
       "      <td>1</td>\n",
       "      <td>60</td>\n",
       "      <td>1</td>\n",
       "      <td>377000.00</td>\n",
       "      <td>1.0</td>\n",
       "      <td>136</td>\n",
       "      <td>1</td>\n",
       "      <td>0</td>\n",
       "      <td>186</td>\n",
       "    </tr>\n",
       "    <tr>\n",
       "      <th>286</th>\n",
       "      <td>70.0</td>\n",
       "      <td>0</td>\n",
       "      <td>97</td>\n",
       "      <td>0</td>\n",
       "      <td>60</td>\n",
       "      <td>1</td>\n",
       "      <td>220000.00</td>\n",
       "      <td>0.9</td>\n",
       "      <td>138</td>\n",
       "      <td>1</td>\n",
       "      <td>0</td>\n",
       "      <td>186</td>\n",
       "    </tr>\n",
       "    <tr>\n",
       "      <th>287</th>\n",
       "      <td>53.0</td>\n",
       "      <td>1</td>\n",
       "      <td>446</td>\n",
       "      <td>0</td>\n",
       "      <td>60</td>\n",
       "      <td>1</td>\n",
       "      <td>263358.03</td>\n",
       "      <td>1.0</td>\n",
       "      <td>139</td>\n",
       "      <td>1</td>\n",
       "      <td>0</td>\n",
       "      <td>215</td>\n",
       "    </tr>\n",
       "    <tr>\n",
       "      <th>288</th>\n",
       "      <td>50.0</td>\n",
       "      <td>0</td>\n",
       "      <td>582</td>\n",
       "      <td>0</td>\n",
       "      <td>62</td>\n",
       "      <td>1</td>\n",
       "      <td>147000.00</td>\n",
       "      <td>0.8</td>\n",
       "      <td>140</td>\n",
       "      <td>1</td>\n",
       "      <td>1</td>\n",
       "      <td>192</td>\n",
       "    </tr>\n",
       "  </tbody>\n",
       "</table>\n",
       "<p>289 rows × 12 columns</p>\n",
       "</div>"
      ],
      "text/plain": [
       "      age  anaemia  creatinine_phosphokinase  diabetes  ejection_fraction  \\\n",
       "0    42.0        1                       250         1                 15   \n",
       "1    46.0        0                       168         1                 17   \n",
       "2    65.0        1                       160         1                 20   \n",
       "3    53.0        1                        91         0                 20   \n",
       "4    50.0        1                       582         1                 20   \n",
       "..    ...      ...                       ...       ...                ...   \n",
       "284  63.0        1                       122         1                 60   \n",
       "285  45.0        0                       308         1                 60   \n",
       "286  70.0        0                        97         0                 60   \n",
       "287  53.0        1                       446         0                 60   \n",
       "288  50.0        0                       582         0                 62   \n",
       "\n",
       "     high_blood_pressure  platelets  serum_creatinine  serum_sodium  sex  \\\n",
       "0                      0  213000.00               1.3           136    0   \n",
       "1                      1  271000.00               2.1           124    0   \n",
       "2                      0  327000.00               2.7           116    0   \n",
       "3                      1  418000.00               1.4           139    0   \n",
       "4                      1  279000.00               1.0           134    0   \n",
       "..                   ...        ...               ...           ...  ...   \n",
       "284                    0  267000.00               1.2           145    1   \n",
       "285                    1  377000.00               1.0           136    1   \n",
       "286                    1  220000.00               0.9           138    1   \n",
       "287                    1  263358.03               1.0           139    1   \n",
       "288                    1  147000.00               0.8           140    1   \n",
       "\n",
       "     smoking  time  \n",
       "0          0    65  \n",
       "1          0   100  \n",
       "2          0     8  \n",
       "3          0    43  \n",
       "4          0   186  \n",
       "..       ...   ...  \n",
       "284        0   147  \n",
       "285        0   186  \n",
       "286        0   186  \n",
       "287        0   215  \n",
       "288        1   192  \n",
       "\n",
       "[289 rows x 12 columns]"
      ]
     },
     "execution_count": 15,
     "metadata": {},
     "output_type": "execute_result"
    }
   ],
   "source": [
    "# Split X (Features) and y (Target)\n",
    "\n",
    "X = df_tr_ts.drop('DEATH_EVENT', axis=1)\n",
    "y = df_tr_ts['DEATH_EVENT']\n",
    "X"
   ]
  },
  {
   "cell_type": "code",
   "execution_count": 16,
   "id": "14194a33",
   "metadata": {
    "scrolled": false
   },
   "outputs": [
    {
     "name": "stdout",
     "output_type": "stream",
     "text": [
      "Train Size : (231, 12)\n",
      "Test Size : (58, 12)\n"
     ]
    }
   ],
   "source": [
    "# Split between Train-Set and Test-set\n",
    "\n",
    "X_train, X_test, y_train, y_test = train_test_split(X, y, test_size = 0.2, random_state=17)\n",
    "\n",
    "print('Train Size :', X_train.shape)\n",
    "print('Test Size :', X_test.shape)"
   ]
  },
  {
   "cell_type": "markdown",
   "id": "aa5db206",
   "metadata": {},
   "source": [
    "## Check Outliers"
   ]
  },
  {
   "cell_type": "code",
   "execution_count": 17,
   "id": "42773443",
   "metadata": {
    "scrolled": false
   },
   "outputs": [
    {
     "name": "stdout",
     "output_type": "stream",
     "text": [
      "age Skewness : 0.4230619067286355\n",
      "age Kurtosis : -0.1848705319541737\n"
     ]
    },
    {
     "data": {
      "image/png": "[encoded data removed]",
      "text/plain": [
       "<Figure size 1440x360 with 1 Axes>"
      ]
     },
     "metadata": {
      "needs_background": "light"
     },
     "output_type": "display_data"
    },
    {
     "name": "stdout",
     "output_type": "stream",
     "text": [
      "\n",
      "\n",
      "serum_sodium Skewness : -1.0481360160574988\n",
      "serum_sodium Kurtosis : 4.119712007624292\n"
     ]
    },
    {
     "data": {
      "image/png": "[encoded data removed]",
      "text/plain": [
       "<Figure size 1440x360 with 1 Axes>"
      ]
     },
     "metadata": {
      "needs_background": "light"
     },
     "output_type": "display_data"
    },
    {
     "name": "stdout",
     "output_type": "stream",
     "text": [
      "\n",
      "\n",
      "serum_creatinine Skewness : 4.455995882049029\n",
      "serum_creatinine Kurtosis : 25.828238661132016\n"
     ]
    },
    {
     "data": {
      "image/png": "[encoded data removed]",
      "text/plain": [
       "<Figure size 1440x360 with 1 Axes>"
      ]
     },
     "metadata": {
      "needs_background": "light"
     },
     "output_type": "display_data"
    },
    {
     "name": "stdout",
     "output_type": "stream",
     "text": [
      "\n",
      "\n"
     ]
    }
   ],
   "source": [
    "# Create Histogram Distribution\n",
    "\n",
    "for col in dat_n:\n",
    "    print(data[col].name + ' Skewness :',data[col].skew())\n",
    "    print(data[col].name + ' Kurtosis :',data[col].kurt())\n",
    "    plt.figure(figsize=(20, 5))\n",
    "    plt.subplot(1,2,1)\n",
    "    plt.axvline(data[col].mean(), color='black', linestyle='dashed', linewidth=2)\n",
    "    plt.axvline(data[col].median(), color='green', linestyle='dashed', linewidth=2)\n",
    "    plt.title('Distribusi Data ' + data[col].name)\n",
    "    sns.histplot(data[col], bins=30, kde=True, color='red')\n",
    "    plt.show()\n",
    "    print('\\n')"
   ]
  },
  {
   "cell_type": "markdown",
   "id": "2dde6a0b",
   "metadata": {},
   "source": [
    "- pada beberapa data numerik terdapat skew. \n",
    "- Pada data age dan time data terdistribusi normal, pada data ejection fraction data terlihat ada skew sedikit sekitar 0.05, tetapi kita masih bisa anggap normal. \n",
    "- Pada creatinine phosphokinase, ejection fraction, platelets dan serum creatinine semuanya terindikasi right skew dimana outliers terdeteksi cukup banyak. Pada data serum sodium terdapat left skew dimana nilai data tinggi di nilai yang tinggi dan tertinggi di 135.\n",
    "- Karena ini merupakan data penyakit, kita tidak akan melakukan penghilangan outliers. Tetapi kita akan mencoba melakukan penambahan data pada data minority."
   ]
  },
  {
   "cell_type": "markdown",
   "id": "521a197b",
   "metadata": {},
   "source": [
    "## Feature Selection"
   ]
  },
  {
   "cell_type": "code",
   "execution_count": 18,
   "id": "aac37771",
   "metadata": {},
   "outputs": [],
   "source": [
    "# Split data numerik and category\n",
    "\n",
    "dat_num = ['age', 'creatinine_phosphokinase', 'ejection_fraction', 'platelets','serum_creatinine', 'serum_sodium', 'time']\n",
    "dat_cat = ['anaemia', 'diabetes', 'high_blood_pressure', 'sex', 'smoking']"
   ]
  },
  {
   "cell_type": "markdown",
   "id": "5e20c275",
   "metadata": {},
   "source": [
    "### Kbest with Anova"
   ]
  },
  {
   "cell_type": "code",
   "execution_count": 19,
   "id": "8f20b317",
   "metadata": {},
   "outputs": [
    {
     "data": {
      "text/plain": [
       "array([1.98082743e+01, 1.49734224e-02, 2.03813180e+01, 1.06480675e-03,\n",
       "       2.09120789e+01, 7.31007275e+00, 1.22906372e+02])"
      ]
     },
     "execution_count": 19,
     "metadata": {},
     "output_type": "execute_result"
    }
   ],
   "source": [
    "# Kbest with anova\n",
    "\n",
    "f_test = SelectKBest(score_func=f_classif, k=4)\n",
    "fit = f_test.fit(X_train[dat_num], y_train)\n",
    "fit.scores_"
   ]
  },
  {
   "cell_type": "code",
   "execution_count": 20,
   "id": "073cae11",
   "metadata": {
    "scrolled": true
   },
   "outputs": [
    {
     "data": {
      "text/plain": [
       "time                        122.906372\n",
       "serum_creatinine             20.912079\n",
       "ejection_fraction            20.381318\n",
       "age                          19.808274\n",
       "serum_sodium                  7.310073\n",
       "creatinine_phosphokinase      0.014973\n",
       "platelets                     0.001065\n",
       "dtype: float64"
      ]
     },
     "execution_count": 20,
     "metadata": {},
     "output_type": "execute_result"
    }
   ],
   "source": [
    "# Create dataframe and show result\n",
    "\n",
    "result = pd.Series(fit.scores_)\n",
    "result.index = X_train[dat_num].columns\n",
    "result.sort_values(ascending=False)"
   ]
  },
  {
   "cell_type": "markdown",
   "id": "26e2468b",
   "metadata": {},
   "source": [
    "Feature dari data numerik yang memiliki hubungan dengan target adalah time, serum creatinine, ejection fraction, serum sodium dan age. Data tersebut akan kita jadikan sebagai feature pada model yang kita bangun."
   ]
  },
  {
   "cell_type": "markdown",
   "id": "7b95fcff",
   "metadata": {},
   "source": [
    "### Kbest with Chi Square"
   ]
  },
  {
   "cell_type": "code",
   "execution_count": 21,
   "id": "1a0b93c8",
   "metadata": {},
   "outputs": [
    {
     "data": {
      "text/plain": [
       "array([6.48284314e-01, 7.16518170e-02, 1.41958899e+00, 2.03823733e-05,\n",
       "       2.52872416e-01])"
      ]
     },
     "execution_count": 21,
     "metadata": {},
     "output_type": "execute_result"
    }
   ],
   "source": [
    "# Kbest with chi square\n",
    "\n",
    "f_test = SelectKBest(score_func=chi2, k=4)\n",
    "fit = f_test.fit(X_train[dat_cat], y_train)\n",
    "fit.scores_"
   ]
  },
  {
   "cell_type": "code",
   "execution_count": 22,
   "id": "bed49910",
   "metadata": {
    "scrolled": true
   },
   "outputs": [
    {
     "data": {
      "text/plain": [
       "high_blood_pressure    1.419589\n",
       "anaemia                0.648284\n",
       "smoking                0.252872\n",
       "diabetes               0.071652\n",
       "sex                    0.000020\n",
       "dtype: float64"
      ]
     },
     "execution_count": 22,
     "metadata": {},
     "output_type": "execute_result"
    }
   ],
   "source": [
    "# Create dataframe and show result\n",
    "\n",
    "chi = pd.Series(fit.scores_)\n",
    "chi.index = X_train[dat_cat].columns\n",
    "chi.sort_values(ascending=False)"
   ]
  },
  {
   "cell_type": "markdown",
   "id": "5055ffc7",
   "metadata": {},
   "source": [
    "Dari data kategori yang memiliki hubungan dengan target adalah high_blood_pressure. high blood pressure akan kita jadikan feature pada model yang kita bangun."
   ]
  },
  {
   "cell_type": "markdown",
   "id": "a04a976c",
   "metadata": {},
   "source": [
    "## Scalling"
   ]
  },
  {
   "cell_type": "code",
   "execution_count": 23,
   "id": "d36ac2a3",
   "metadata": {},
   "outputs": [],
   "source": [
    "# Split between category and numeric features\n",
    "\n",
    "num_d = ['time','serum_creatinine','ejection_fraction','age']\n",
    "cat_d = ['high_blood_pressure'] "
   ]
  },
  {
   "cell_type": "code",
   "execution_count": 24,
   "id": "28afbc19",
   "metadata": {},
   "outputs": [],
   "source": [
    "# Split between numeric and category data for data train and test\n",
    "\n",
    "X_train_num = X_train[num_d]\n",
    "X_test_num = X_test[num_d]"
   ]
  },
  {
   "cell_type": "code",
   "execution_count": 25,
   "id": "242eec5f",
   "metadata": {
    "scrolled": true
   },
   "outputs": [
    {
     "data": {
      "text/plain": [
       "array([[0.72953737, 0.04494382, 0.4       , 0.        ],\n",
       "       [0.21708185, 0.08988764, 0.        , 0.03636364],\n",
       "       [0.38790036, 0.05617978, 0.9       , 0.43636364],\n",
       "       [0.1316726 , 0.43820225, 0.1       , 0.72727273],\n",
       "       [0.03914591, 0.15730337, 0.8       , 0.14545455],\n",
       "       [0.75088968, 0.07865169, 0.4       , 0.54545455],\n",
       "       [0.33096085, 0.08988764, 0.7       , 0.05454545],\n",
       "       [0.09252669, 0.33707865, 0.4       , 0.52727273],\n",
       "       [0.08540925, 0.28089888, 0.6       , 0.81818182],\n",
       "       [0.44483986, 0.06741573, 0.3       , 0.09090909],\n",
       "       [0.02491103, 0.06741573, 0.46      , 0.18181818],\n",
       "       [0.29537367, 0.05617978, 0.3       , 0.03636364],\n",
       "       [0.87544484, 0.37078652, 0.3       , 0.03636364],\n",
       "       [0.62633452, 0.07640449, 0.3       , 0.6       ],\n",
       "       [0.71530249, 0.1011236 , 0.9       , 0.63636364],\n",
       "       [0.87544484, 0.24719101, 0.5       , 0.54545455],\n",
       "       [0.90035587, 0.03370787, 0.8       , 0.09090909],\n",
       "       [0.64768683, 0.05617978, 0.9       , 0.09090909],\n",
       "       [0.64768683, 0.02247191, 0.6       , 0.41818182],\n",
       "       [0.75088968, 0.05617978, 0.9       , 0.23636364],\n",
       "       [0.75088968, 0.05617978, 0.6       , 0.18181818],\n",
       "       [0.7544484 , 0.05617978, 0.3       , 0.21818182],\n",
       "       [0.2633452 , 0.05617978, 0.2       , 0.34545455],\n",
       "       [0.85409253, 0.04494382, 0.5       , 0.2       ],\n",
       "       [0.81494662, 0.05617978, 0.5       , 0.27272727],\n",
       "       [0.81494662, 0.02247191, 0.5       , 0.4       ],\n",
       "       [0.08185053, 0.1494382 , 0.46      , 0.98181818],\n",
       "       [0.37010676, 0.17977528, 0.2       , 0.50909091],\n",
       "       [0.74733096, 0.07865169, 0.5       , 0.23636364],\n",
       "       [0.40213523, 0.04494382, 0.9       , 0.4       ],\n",
       "       [0.03202847, 0.08988764, 0.7       , 0.76363636],\n",
       "       [0.29893238, 0.13483146, 0.3       , 0.58181818],\n",
       "       [0.02135231, 0.04494382, 0.2       , 0.4       ],\n",
       "       [0.32740214, 0.35955056, 0.5       , 0.36363636],\n",
       "       [0.50533808, 0.05617978, 0.9       , 0.36363636],\n",
       "       [0.19928826, 0.05617978, 0.2       , 0.09090909],\n",
       "       [0.94661922, 0.06741573, 0.46      , 0.4       ],\n",
       "       [0.85765125, 0.07865169, 0.46      , 0.49090909],\n",
       "       [0.09608541, 0.1494382 , 0.1       , 0.54545455],\n",
       "       [0.03558719, 0.04494382, 0.46      , 0.85454545],\n",
       "       [0.70106762, 0.03370787, 0.2       , 0.12727273],\n",
       "       [0.65124555, 0.03370787, 0.4       , 0.16363636],\n",
       "       [0.27046263, 0.03370787, 0.6       , 0.54545455],\n",
       "       [0.64768683, 0.05617978, 0.1       , 0.18181818],\n",
       "       [0.64768683, 0.14606742, 0.4       , 0.36363636],\n",
       "       [0.85409253, 0.05617978, 0.4       , 0.        ],\n",
       "       [0.09252669, 0.05617978, 0.7       , 0.90909091],\n",
       "       [0.08896797, 0.07865169, 0.3       , 0.18181818],\n",
       "       [0.38434164, 0.02247191, 0.3       , 0.21818182],\n",
       "       [0.30604982, 0.07865169, 0.4       , 0.27272727],\n",
       "       [0.10320285, 0.07865169, 0.6       , 0.54545455],\n",
       "       [0.21352313, 0.26966292, 0.1       , 0.36363636],\n",
       "       [0.09252669, 0.05617978, 0.7       , 0.76363636],\n",
       "       [0.72953737, 0.06741573, 0.7       , 0.63636364],\n",
       "       [0.14234875, 0.05617978, 0.7       , 0.54545455],\n",
       "       [0.13879004, 0.1011236 , 0.1       , 0.23636364],\n",
       "       [0.29537367, 0.20224719, 0.7       , 0.36363636],\n",
       "       [0.64768683, 0.03370787, 0.3       , 0.45454545],\n",
       "       [0.36654804, 0.04494382, 0.9       , 0.45454545],\n",
       "       [0.29893238, 0.04494382, 0.4       , 0.09090909],\n",
       "       [0.85409253, 0.04494382, 0.46      , 0.09090909],\n",
       "       [0.08896797, 0.05617978, 0.7       , 0.45454545],\n",
       "       [0.25622776, 0.07640449, 0.7       , 0.49090909],\n",
       "       [0.2455516 , 0.02247191, 0.1       , 0.36363636],\n",
       "       [0.66903915, 0.03370787, 0.94      , 0.18181818],\n",
       "       [0.59430605, 0.11235955, 0.3       , 0.37576364],\n",
       "       [0.42348754, 0.04494382, 0.5       , 0.41818182],\n",
       "       [0.66903915, 0.1011236 , 0.7       , 0.69090909],\n",
       "       [0.10320285, 0.06741573, 0.9       , 0.36363636],\n",
       "       [0.27758007, 0.07640449, 0.9       , 0.03636364],\n",
       "       [0.40569395, 0.04494382, 0.6       , 0.18181818],\n",
       "       [0.07829181, 0.08988764, 0.6       , 0.54545455],\n",
       "       [0.32384342, 0.02808989, 0.46      , 0.36363636],\n",
       "       [0.26690391, 0.06741573, 0.2       , 0.30909091],\n",
       "       [0.28113879, 0.08988764, 0.2       , 0.41818182],\n",
       "       [0.56227758, 0.2247191 , 0.46      , 0.63636364],\n",
       "       [0.60498221, 0.04494382, 0.6       , 0.        ],\n",
       "       [0.5088968 , 0.02247191, 0.5       , 0.27272727],\n",
       "       [0.00711744, 0.06741573, 0.46      , 0.27272727],\n",
       "       [0.02135231, 0.07865169, 0.        , 0.63636364],\n",
       "       [0.25266904, 0.13483146, 0.5       , 0.54545455],\n",
       "       [0.74377224, 0.04494382, 0.5       , 0.6       ],\n",
       "       [0.12811388, 0.01123596, 0.46      , 0.36363636],\n",
       "       [0.39501779, 0.04494382, 0.4       , 0.36363636],\n",
       "       [0.28825623, 0.06741573, 0.9       , 0.54545455],\n",
       "       [0.50533808, 0.06741573, 0.9       , 0.54545455],\n",
       "       [0.6975089 , 0.06741573, 0.7       , 0.45454545],\n",
       "       [1.        , 0.12359551, 0.6       , 0.18181818],\n",
       "       [0.50533808, 0.04494382, 0.5       , 0.21818182],\n",
       "       [0.35587189, 0.03370787, 0.9       , 0.32727273],\n",
       "       [0.06761566, 0.15730337, 0.46      , 0.72727273],\n",
       "       [0.17793594, 0.01123596, 0.5       , 0.36363636],\n",
       "       [0.64768683, 0.04494382, 0.9       , 0.54545455],\n",
       "       [0.74733096, 0.05617978, 0.4       , 0.        ],\n",
       "       [0.82918149, 0.05617978, 0.9       , 0.50909091],\n",
       "       [0.37366548, 0.06741573, 0.46      , 0.72727273],\n",
       "       [0.59074733, 0.07865169, 0.2       , 0.32727273],\n",
       "       [0.13523132, 0.05617978, 0.3       , 0.30909091],\n",
       "       [0.3202847 , 0.02247191, 0.9       , 0.36363636],\n",
       "       [0.86120996, 0.06741573, 0.46      , 0.54545455],\n",
       "       [0.26690391, 0.03370787, 0.9       , 0.45454545],\n",
       "       [0.38434164, 0.02247191, 0.3       , 0.18181818],\n",
       "       [0.86120996, 0.08988764, 0.46      , 0.27272727],\n",
       "       [0.71886121, 0.05617978, 0.4       , 0.27272727],\n",
       "       [0.34163701, 0.17977528, 0.04      , 0.10909091],\n",
       "       [0.13879004, 0.05617978, 0.2       , 0.50909091],\n",
       "       [0.41637011, 0.06741573, 0.6       , 0.34545455],\n",
       "       [0.85765125, 0.05617978, 0.3       , 0.36363636],\n",
       "       [0.22419929, 0.1494382 , 0.2       , 0.45454545],\n",
       "       [0.73309609, 0.07865169, 0.3       , 0.54545455],\n",
       "       [0.        , 0.15730337, 0.1       , 0.63636364],\n",
       "       [0.03914591, 0.05617978, 0.2       , 0.54545455],\n",
       "       [0.26690391, 0.02247191, 0.5       , 0.07272727],\n",
       "       [0.30960854, 0.07865169, 0.5       , 0.36363636],\n",
       "       [0.35587189, 0.02247191, 0.3       , 0.38181818],\n",
       "       [0.5088968 , 0.05617978, 0.7       , 0.16363636],\n",
       "       [0.29537367, 0.07640449, 0.6       , 0.63636364],\n",
       "       [0.2455516 , 0.07865169, 0.1       , 0.52727273],\n",
       "       [0.02135231, 1.        , 0.4       , 0.72727273],\n",
       "       [0.74021352, 0.06741573, 0.4       , 0.        ],\n",
       "       [0.37010676, 0.03370787, 0.3       , 0.18181818],\n",
       "       [0.95017794, 0.07865169, 0.46      , 0.27272727],\n",
       "       [0.38790036, 0.1494382 , 0.3       , 0.63636364],\n",
       "       [0.82206406, 0.1011236 , 0.2       , 0.45454545],\n",
       "       [0.22775801, 0.03370787, 0.5       , 0.01818182],\n",
       "       [0.46619217, 0.21348315, 0.1       , 0.34545455],\n",
       "       [0.65124555, 0.02247191, 0.5       , 0.69090909],\n",
       "       [0.90391459, 0.05617978, 0.46      , 0.21818182],\n",
       "       [0.20284698, 0.05617978, 0.4       , 0.09090909],\n",
       "       [0.72953737, 0.06741573, 0.7       , 0.67272727],\n",
       "       [0.67259786, 0.12359551, 0.3       , 0.14545455],\n",
       "       [0.70106762, 0.06741573, 0.4       , 0.03636364],\n",
       "       [0.73309609, 0.05617978, 0.5       , 0.45454545],\n",
       "       [0.82918149, 0.07865169, 0.46      , 0.38181818],\n",
       "       [0.01067616, 0.08988764, 0.1       , 0.45454545],\n",
       "       [0.85765125, 0.03370787, 0.46      , 0.09090909],\n",
       "       [0.87544484, 0.13483146, 0.4       , 0.36363636],\n",
       "       [0.89679715, 0.06741573, 0.4       , 0.45454545],\n",
       "       [0.41281139, 0.13483146, 0.2       , 0.36363636],\n",
       "       [0.29537367, 0.06741573, 0.2       , 0.45454545],\n",
       "       [0.30604982, 0.12359551, 0.2       , 0.18181818],\n",
       "       [0.41637011, 0.03370787, 0.4       , 0.09090909],\n",
       "       [0.7366548 , 0.07640449, 0.6       , 0.27272727],\n",
       "       [0.16370107, 0.16853933, 0.3       , 1.        ],\n",
       "       [0.28825623, 0.07865169, 0.2       , 0.36363636],\n",
       "       [0.90391459, 0.1011236 , 0.4       , 0.36363636],\n",
       "       [0.72241993, 0.13483146, 0.3       , 0.36363636],\n",
       "       [0.0569395 , 0.12359551, 0.3       , 0.45454545],\n",
       "       [0.48398577, 0.05617978, 0.5       , 0.45454545],\n",
       "       [0.68683274, 0.02247191, 0.4       , 0.27272727],\n",
       "       [0.28113879, 0.02247191, 0.46      , 0.32727273],\n",
       "       [0.3594306 , 0.3258427 , 0.4       , 0.23636364],\n",
       "       [0.65124555, 0.05617978, 0.5       , 0.36363636],\n",
       "       [0.62633452, 0.14606742, 0.6       , 0.67272727],\n",
       "       [0.32384342, 0.05617978, 0.46      , 0.47272727],\n",
       "       [0.04270463, 0.08988764, 0.2       , 0.45454545],\n",
       "       [0.5088968 , 0.05617978, 0.5       , 0.52727273],\n",
       "       [0.44839858, 0.08988764, 0.46      , 0.72727273],\n",
       "       [0.50177936, 0.03370787, 0.4       , 0.54545455],\n",
       "       [0.30960854, 0.05617978, 0.5       , 0.32727273],\n",
       "       [0.02135231, 0.11235955, 1.        , 0.45454545],\n",
       "       [0.3772242 , 0.04494382, 0.5       , 0.38181818],\n",
       "       [0.65124555, 0.05617978, 0.6       , 0.18181818],\n",
       "       [0.28113879, 0.05617978, 0.9       , 0.32727273],\n",
       "       [0.12099644, 0.04494382, 0.2       , 0.2       ],\n",
       "       [0.30604982, 0.08988764, 0.9       , 0.54545455],\n",
       "       [0.74377224, 0.14606742, 0.46      , 0.25454545],\n",
       "       [0.01067616, 0.15730337, 0.1       , 0.18181818],\n",
       "       [0.74733096, 0.        , 0.3       , 0.18181818],\n",
       "       [0.09252669, 0.20224719, 0.3       , 0.36363636],\n",
       "       [0.72241993, 0.50561798, 0.2       , 0.45454545],\n",
       "       [0.37366548, 0.04494382, 0.3       , 0.18181818],\n",
       "       [0.65480427, 0.05617978, 0.04      , 0.54545455],\n",
       "       [0.65124555, 0.33707865, 0.2       , 0.36363636],\n",
       "       [0.2633452 , 0.14606742, 0.7       , 0.70909091],\n",
       "       [0.87544484, 0.05617978, 0.8       , 0.09090909],\n",
       "       [0.50177936, 0.11235955, 0.4       , 0.2       ],\n",
       "       [0.0569395 , 0.04494382, 0.4       , 0.50909091],\n",
       "       [0.08540925, 0.05617978, 0.4       , 0.18181818],\n",
       "       [0.98220641, 0.1011236 , 0.46      , 0.09090909],\n",
       "       [0.74021352, 0.08988764, 0.4       , 0.54545455],\n",
       "       [0.36654804, 0.07640449, 0.5       , 0.63636364],\n",
       "       [0.87544484, 0.06741573, 0.46      , 0.45454545],\n",
       "       [0.06761566, 0.1494382 , 0.3       , 0.63636364],\n",
       "       [0.62633452, 0.12359551, 0.1       , 0.09090909],\n",
       "       [0.32384342, 0.04494382, 0.3       , 0.36363636],\n",
       "       [0.11032028, 0.15730337, 0.46      , 0.18181818],\n",
       "       [0.83985765, 0.04494382, 0.4       , 0.18181818],\n",
       "       [0.39501779, 0.2247191 , 0.6       , 0.58181818],\n",
       "       [0.40925267, 0.07640449, 0.4       , 0.18181818],\n",
       "       [0.85409253, 0.13483146, 0.46      , 0.29090909],\n",
       "       [0.10320285, 0.05617978, 0.7       , 0.58181818],\n",
       "       [0.30604982, 0.07865169, 0.9       , 0.81818182],\n",
       "       [0.07829181, 0.59550562, 0.46      , 0.32727273],\n",
       "       [0.18149466, 0.06741573, 0.1       , 0.16363636],\n",
       "       [0.29893238, 0.06741573, 0.46      , 0.41818182],\n",
       "       [0.02135231, 0.06741573, 0.9       , 0.36363636],\n",
       "       [0.32384342, 0.11235955, 0.9       , 0.36363636],\n",
       "       [0.3202847 , 0.30337079, 0.9       , 0.81818182],\n",
       "       [0.86120996, 0.02247191, 0.3       , 0.18181818],\n",
       "       [0.59786477, 0.05617978, 0.5       , 0.37576364],\n",
       "       [0.25978648, 0.2247191 , 0.2       , 0.36363636],\n",
       "       [0.36654804, 0.07640449, 0.5       , 0.10909091],\n",
       "       [0.76868327, 0.13483146, 0.46      , 0.45454545],\n",
       "       [0.60854093, 0.02247191, 0.5       , 0.18181818],\n",
       "       [0.07117438, 0.05617978, 0.5       , 1.        ],\n",
       "       [0.80427046, 0.03370787, 0.2       , 0.09090909],\n",
       "       [0.32384342, 0.1494382 , 0.46      , 0.83636364],\n",
       "       [0.01423488, 0.24719101, 0.1       , 0.45454545],\n",
       "       [0.06405694, 0.03370787, 0.9       , 0.23636364],\n",
       "       [0.4341637 , 0.04494382, 0.4       , 0.18181818],\n",
       "       [0.41637011, 0.07865169, 0.5       , 0.47272727],\n",
       "       [0.85765125, 0.02247191, 0.5       , 0.03636364],\n",
       "       [0.41281139, 0.03370787, 0.4       , 0.45454545],\n",
       "       [0.68683274, 0.06741573, 0.4       , 0.50909091],\n",
       "       [0.19928826, 0.06741573, 0.4       , 0.27272727],\n",
       "       [0.24199288, 0.08988764, 0.7       , 0.45454545],\n",
       "       [0.38078292, 0.13483146, 0.2       , 0.58181818],\n",
       "       [0.41637011, 0.08988764, 0.7       , 0.81818182],\n",
       "       [0.6797153 , 0.08988764, 0.4       , 0.6       ],\n",
       "       [0.09252669, 0.28089888, 0.46      , 0.36363636],\n",
       "       [0.09964413, 0.07865169, 0.3       , 0.18181818],\n",
       "       [0.86476868, 0.05617978, 0.5       , 0.54545455],\n",
       "       [0.22064057, 0.07865169, 0.2       , 0.54545455],\n",
       "       [0.85765125, 0.06741573, 0.4       , 0.54545455],\n",
       "       [0.41281139, 0.1011236 , 0.4       , 0.21818182],\n",
       "       [0.36298932, 0.02247191, 0.9       , 0.23636364],\n",
       "       [0.87544484, 0.03370787, 0.5       , 0.18181818],\n",
       "       [0.02491103, 0.06741573, 0.3       , 0.09090909],\n",
       "       [0.87544484, 0.07865169, 0.5       , 0.27272727],\n",
       "       [0.19572954, 0.08988764, 0.1       , 0.58181818]])"
      ]
     },
     "execution_count": 25,
     "metadata": {},
     "output_type": "execute_result"
    }
   ],
   "source": [
    "# feature scaling menggunakan MinMaxScaller\n",
    "\n",
    "scaler = MinMaxScaler()\n",
    "scaler.fit(X_train_num)\n",
    "\n",
    "X_train_scaled = scaler.transform(X_train_num)\n",
    "X_test_scaled = scaler.transform(X_test_num)\n",
    "\n",
    "X_train_scaled"
   ]
  },
  {
   "cell_type": "markdown",
   "id": "bfcbb079",
   "metadata": {},
   "source": [
    "Data numerik akan di scalling dengan menggunakan metode MinMax, dikarenakan data numerik yang kita miliki lebih dominan dengan data yang skew."
   ]
  },
  {
   "cell_type": "code",
   "execution_count": 26,
   "id": "0402d8c0",
   "metadata": {
    "scrolled": false
   },
   "outputs": [
    {
     "data": {
      "text/plain": [
       "array([[0.72953737, 0.04494382, 0.4       , 0.        , 0.        ],\n",
       "       [0.21708185, 0.08988764, 0.        , 0.03636364, 0.        ],\n",
       "       [0.38790036, 0.05617978, 0.9       , 0.43636364, 0.        ],\n",
       "       ...,\n",
       "       [0.02491103, 0.06741573, 0.3       , 0.09090909, 0.        ],\n",
       "       [0.87544484, 0.07865169, 0.5       , 0.27272727, 0.        ],\n",
       "       [0.19572954, 0.08988764, 0.1       , 0.58181818, 1.        ]])"
      ]
     },
     "execution_count": 26,
     "metadata": {},
     "output_type": "execute_result"
    }
   ],
   "source": [
    "X_train_final = np.concatenate([X_train_scaled, X_train[cat_d]], axis=1)\n",
    "X_test_final = np.concatenate([X_test_scaled, X_test[cat_d]], axis=1)\n",
    "\n",
    "X_train_final"
   ]
  },
  {
   "cell_type": "markdown",
   "id": "3793dcd6",
   "metadata": {},
   "source": [
    "## Resampling"
   ]
  },
  {
   "cell_type": "code",
   "execution_count": 27,
   "id": "be75b6d1",
   "metadata": {},
   "outputs": [],
   "source": [
    "# Smotenc definition\n",
    "\n",
    "sm = SMOTENC(random_state=42, categorical_features=[0])"
   ]
  },
  {
   "cell_type": "code",
   "execution_count": 28,
   "id": "da513beb",
   "metadata": {
    "scrolled": true
   },
   "outputs": [
    {
     "name": "stdout",
     "output_type": "stream",
     "text": [
      "Resampled dataset samples per class Counter({0: 153, 1: 153})\n"
     ]
    }
   ],
   "source": [
    "# fit smotenc in data to varibel\n",
    "\n",
    "X_res, y_res = sm.fit_resample(X_train_final, y_train)\n",
    "print(f'Resampled dataset samples per class {Counter(y_res)}')"
   ]
  },
  {
   "cell_type": "markdown",
   "id": "675d4088",
   "metadata": {},
   "source": [
    "Melakukan resampling data pada data minority untuk ditingkatkan jumlahnya agar sama dengan data majority. Di kasus ini data terindikasi meninggal yes akan ditambah agar data balance dengan data yang terindikasi meninggal no. Hal ini dilakukan untuk melihat kinerja model jika data seimbang. Resampling dilakukan dengan membuat data syntetic."
   ]
  },
  {
   "cell_type": "code",
   "execution_count": 29,
   "id": "a5092958",
   "metadata": {
    "scrolled": false
   },
   "outputs": [
    {
     "data": {
      "image/png": "[encoded data removed]",
      "text/plain": [
       "<Figure size 576x576 with 1 Axes>"
      ]
     },
     "metadata": {
      "needs_background": "light"
     },
     "output_type": "display_data"
    }
   ],
   "source": [
    "# Create count Target Resampling\n",
    "\n",
    "plt.figure(figsize=(8,8))\n",
    "resampling = sns.countplot(data=y_res, x=y_res, palette=('g','r'))\n",
    "resampling.bar_label(resampling.containers[0], label_type='edge');"
   ]
  },
  {
   "cell_type": "markdown",
   "id": "948794fe",
   "metadata": {},
   "source": [
    "Setelah dilakukan Resampling, data menjadi seimbang antara terindikasi meninggal yes dan terindikasi meninggal no."
   ]
  },
  {
   "cell_type": "markdown",
   "id": "2bf708f8",
   "metadata": {},
   "source": [
    "# 6 - Model Definition"
   ]
  },
  {
   "cell_type": "code",
   "execution_count": 30,
   "id": "c8f0fd2d",
   "metadata": {},
   "outputs": [],
   "source": [
    "# Definition model into variabel\n",
    "\n",
    "rf_model = RandomForestClassifier(criterion='entropy',n_estimators=10, \n",
    "                                  max_depth=10, random_state=150)\n",
    "ada_model = AdaBoostClassifier(n_estimators=10,algorithm='SAMME', \n",
    "                               base_estimator=None, random_state=45)\n",
    "\n",
    "rf_r_model = RandomForestClassifier(criterion='entropy',n_estimators=10, \n",
    "                                  max_depth=10, random_state=150)\n",
    "ada_r_model = AdaBoostClassifier(n_estimators=10,algorithm='SAMME', \n",
    "                               base_estimator=None, random_state=45)"
   ]
  },
  {
   "cell_type": "markdown",
   "id": "7640724d",
   "metadata": {},
   "source": [
    "# 7 - Model Training"
   ]
  },
  {
   "cell_type": "code",
   "execution_count": 31,
   "id": "d08975e6",
   "metadata": {
    "scrolled": true
   },
   "outputs": [
    {
     "data": {
      "text/html": [
       "<style>#sk-container-id-1 {color: black;background-color: white;}#sk-container-id-1 pre{padding: 0;}#sk-container-id-1 div.sk-toggleable {background-color: white;}#sk-container-id-1 label.sk-toggleable__label {cursor: pointer;display: block;width: 100%;margin-bottom: 0;padding: 0.3em;box-sizing: border-box;text-align: center;}#sk-container-id-1 label.sk-toggleable__label-arrow:before {content: \"▸\";float: left;margin-right: 0.25em;color: #696969;}#sk-container-id-1 label.sk-toggleable__label-arrow:hover:before {color: black;}#sk-container-id-1 div.sk-estimator:hover label.sk-toggleable__label-arrow:before {color: black;}#sk-container-id-1 div.sk-toggleable__content {max-height: 0;max-width: 0;overflow: hidden;text-align: left;background-color: #f0f8ff;}#sk-container-id-1 div.sk-toggleable__content pre {margin: 0.2em;color: black;border-radius: 0.25em;background-color: #f0f8ff;}#sk-container-id-1 input.sk-toggleable__control:checked~div.sk-toggleable__content {max-height: 200px;max-width: 100%;overflow: auto;}#sk-container-id-1 input.sk-toggleable__control:checked~label.sk-toggleable__label-arrow:before {content: \"▾\";}#sk-container-id-1 div.sk-estimator input.sk-toggleable__control:checked~label.sk-toggleable__label {background-color: #d4ebff;}#sk-container-id-1 div.sk-label input.sk-toggleable__control:checked~label.sk-toggleable__label {background-color: #d4ebff;}#sk-container-id-1 input.sk-hidden--visually {border: 0;clip: rect(1px 1px 1px 1px);clip: rect(1px, 1px, 1px, 1px);height: 1px;margin: -1px;overflow: hidden;padding: 0;position: absolute;width: 1px;}#sk-container-id-1 div.sk-estimator {font-family: monospace;background-color: #f0f8ff;border: 1px dotted black;border-radius: 0.25em;box-sizing: border-box;margin-bottom: 0.5em;}#sk-container-id-1 div.sk-estimator:hover {background-color: #d4ebff;}#sk-container-id-1 div.sk-parallel-item::after {content: \"\";width: 100%;border-bottom: 1px solid gray;flex-grow: 1;}#sk-container-id-1 div.sk-label:hover label.sk-toggleable__label {background-color: #d4ebff;}#sk-container-id-1 div.sk-serial::before {content: \"\";position: absolute;border-left: 1px solid gray;box-sizing: border-box;top: 0;bottom: 0;left: 50%;z-index: 0;}#sk-container-id-1 div.sk-serial {display: flex;flex-direction: column;align-items: center;background-color: white;padding-right: 0.2em;padding-left: 0.2em;position: relative;}#sk-container-id-1 div.sk-item {position: relative;z-index: 1;}#sk-container-id-1 div.sk-parallel {display: flex;align-items: stretch;justify-content: center;background-color: white;position: relative;}#sk-container-id-1 div.sk-item::before, #sk-container-id-1 div.sk-parallel-item::before {content: \"\";position: absolute;border-left: 1px solid gray;box-sizing: border-box;top: 0;bottom: 0;left: 50%;z-index: -1;}#sk-container-id-1 div.sk-parallel-item {display: flex;flex-direction: column;z-index: 1;position: relative;background-color: white;}#sk-container-id-1 div.sk-parallel-item:first-child::after {align-self: flex-end;width: 50%;}#sk-container-id-1 div.sk-parallel-item:last-child::after {align-self: flex-start;width: 50%;}#sk-container-id-1 div.sk-parallel-item:only-child::after {width: 0;}#sk-container-id-1 div.sk-dashed-wrapped {border: 1px dashed gray;margin: 0 0.4em 0.5em 0.4em;box-sizing: border-box;padding-bottom: 0.4em;background-color: white;}#sk-container-id-1 div.sk-label label {font-family: monospace;font-weight: bold;display: inline-block;line-height: 1.2em;}#sk-container-id-1 div.sk-label-container {text-align: center;}#sk-container-id-1 div.sk-container {/* jupyter's `normalize.less` sets `[hidden] { display: none; }` but bootstrap.min.css set `[hidden] { display: none !important; }` so we also need the `!important` here to be able to override the default hidden behavior on the sphinx rendered scikit-learn.org. See: https://github.com/scikit-learn/scikit-learn/issues/21755 */display: inline-block !important;position: relative;}#sk-container-id-1 div.sk-text-repr-fallback {display: none;}</style><div id=\"sk-container-id-1\" class=\"sk-top-container\"><div class=\"sk-text-repr-fallback\"><pre>RandomForestClassifier(criterion=&#x27;entropy&#x27;, max_depth=10, n_estimators=10,\n",
       "                       random_state=150)</pre><b>In a Jupyter environment, please rerun this cell to show the HTML representation or trust the notebook. <br />On GitHub, the HTML representation is unable to render, please try loading this page with nbviewer.org.</b></div><div class=\"sk-container\" hidden><div class=\"sk-item\"><div class=\"sk-estimator sk-toggleable\"><input class=\"sk-toggleable__control sk-hidden--visually\" id=\"sk-estimator-id-1\" type=\"checkbox\" checked><label for=\"sk-estimator-id-1\" class=\"sk-toggleable__label sk-toggleable__label-arrow\">RandomForestClassifier</label><div class=\"sk-toggleable__content\"><pre>RandomForestClassifier(criterion=&#x27;entropy&#x27;, max_depth=10, n_estimators=10,\n",
       "                       random_state=150)</pre></div></div></div></div></div>"
      ],
      "text/plain": [
       "RandomForestClassifier(criterion='entropy', max_depth=10, n_estimators=10,\n",
       "                       random_state=150)"
      ]
     },
     "execution_count": 31,
     "metadata": {},
     "output_type": "execute_result"
    }
   ],
   "source": [
    "rf_model.fit(X_train_final, y_train)\n",
    "rf_r_model.fit(X_res, y_res)"
   ]
  },
  {
   "cell_type": "markdown",
   "id": "6354f212",
   "metadata": {},
   "source": [
    "Pada model Random Forest, kita menggunakan beberapa parameter:\n",
    "- Criterion kita menggunakan entropy, untuk mengukur kualitas split dalam perolehan informasi.\n",
    "- Max depth = 10 , yaitu maksimal kedalaman root node yang akan dibentuk pada model Random forest.\n",
    "- n_estimator = 10, banyaknya tree pada forest sejumlah 10.\n",
    "- Random_state = 150, seed yang digunakan oleh generator angka acak sebanyak 150.\n",
    "\n",
    "Parameter di atas untuk saat ini adalah parameter terbaik yang didapatkan setelah beberapa uji coba."
   ]
  },
  {
   "cell_type": "code",
   "execution_count": 32,
   "id": "267850c2",
   "metadata": {
    "scrolled": true
   },
   "outputs": [
    {
     "data": {
      "text/html": [
       "<style>#sk-container-id-2 {color: black;background-color: white;}#sk-container-id-2 pre{padding: 0;}#sk-container-id-2 div.sk-toggleable {background-color: white;}#sk-container-id-2 label.sk-toggleable__label {cursor: pointer;display: block;width: 100%;margin-bottom: 0;padding: 0.3em;box-sizing: border-box;text-align: center;}#sk-container-id-2 label.sk-toggleable__label-arrow:before {content: \"▸\";float: left;margin-right: 0.25em;color: #696969;}#sk-container-id-2 label.sk-toggleable__label-arrow:hover:before {color: black;}#sk-container-id-2 div.sk-estimator:hover label.sk-toggleable__label-arrow:before {color: black;}#sk-container-id-2 div.sk-toggleable__content {max-height: 0;max-width: 0;overflow: hidden;text-align: left;background-color: #f0f8ff;}#sk-container-id-2 div.sk-toggleable__content pre {margin: 0.2em;color: black;border-radius: 0.25em;background-color: #f0f8ff;}#sk-container-id-2 input.sk-toggleable__control:checked~div.sk-toggleable__content {max-height: 200px;max-width: 100%;overflow: auto;}#sk-container-id-2 input.sk-toggleable__control:checked~label.sk-toggleable__label-arrow:before {content: \"▾\";}#sk-container-id-2 div.sk-estimator input.sk-toggleable__control:checked~label.sk-toggleable__label {background-color: #d4ebff;}#sk-container-id-2 div.sk-label input.sk-toggleable__control:checked~label.sk-toggleable__label {background-color: #d4ebff;}#sk-container-id-2 input.sk-hidden--visually {border: 0;clip: rect(1px 1px 1px 1px);clip: rect(1px, 1px, 1px, 1px);height: 1px;margin: -1px;overflow: hidden;padding: 0;position: absolute;width: 1px;}#sk-container-id-2 div.sk-estimator {font-family: monospace;background-color: #f0f8ff;border: 1px dotted black;border-radius: 0.25em;box-sizing: border-box;margin-bottom: 0.5em;}#sk-container-id-2 div.sk-estimator:hover {background-color: #d4ebff;}#sk-container-id-2 div.sk-parallel-item::after {content: \"\";width: 100%;border-bottom: 1px solid gray;flex-grow: 1;}#sk-container-id-2 div.sk-label:hover label.sk-toggleable__label {background-color: #d4ebff;}#sk-container-id-2 div.sk-serial::before {content: \"\";position: absolute;border-left: 1px solid gray;box-sizing: border-box;top: 0;bottom: 0;left: 50%;z-index: 0;}#sk-container-id-2 div.sk-serial {display: flex;flex-direction: column;align-items: center;background-color: white;padding-right: 0.2em;padding-left: 0.2em;position: relative;}#sk-container-id-2 div.sk-item {position: relative;z-index: 1;}#sk-container-id-2 div.sk-parallel {display: flex;align-items: stretch;justify-content: center;background-color: white;position: relative;}#sk-container-id-2 div.sk-item::before, #sk-container-id-2 div.sk-parallel-item::before {content: \"\";position: absolute;border-left: 1px solid gray;box-sizing: border-box;top: 0;bottom: 0;left: 50%;z-index: -1;}#sk-container-id-2 div.sk-parallel-item {display: flex;flex-direction: column;z-index: 1;position: relative;background-color: white;}#sk-container-id-2 div.sk-parallel-item:first-child::after {align-self: flex-end;width: 50%;}#sk-container-id-2 div.sk-parallel-item:last-child::after {align-self: flex-start;width: 50%;}#sk-container-id-2 div.sk-parallel-item:only-child::after {width: 0;}#sk-container-id-2 div.sk-dashed-wrapped {border: 1px dashed gray;margin: 0 0.4em 0.5em 0.4em;box-sizing: border-box;padding-bottom: 0.4em;background-color: white;}#sk-container-id-2 div.sk-label label {font-family: monospace;font-weight: bold;display: inline-block;line-height: 1.2em;}#sk-container-id-2 div.sk-label-container {text-align: center;}#sk-container-id-2 div.sk-container {/* jupyter's `normalize.less` sets `[hidden] { display: none; }` but bootstrap.min.css set `[hidden] { display: none !important; }` so we also need the `!important` here to be able to override the default hidden behavior on the sphinx rendered scikit-learn.org. See: https://github.com/scikit-learn/scikit-learn/issues/21755 */display: inline-block !important;position: relative;}#sk-container-id-2 div.sk-text-repr-fallback {display: none;}</style><div id=\"sk-container-id-2\" class=\"sk-top-container\"><div class=\"sk-text-repr-fallback\"><pre>AdaBoostClassifier(algorithm=&#x27;SAMME&#x27;, n_estimators=10, random_state=45)</pre><b>In a Jupyter environment, please rerun this cell to show the HTML representation or trust the notebook. <br />On GitHub, the HTML representation is unable to render, please try loading this page with nbviewer.org.</b></div><div class=\"sk-container\" hidden><div class=\"sk-item\"><div class=\"sk-estimator sk-toggleable\"><input class=\"sk-toggleable__control sk-hidden--visually\" id=\"sk-estimator-id-2\" type=\"checkbox\" checked><label for=\"sk-estimator-id-2\" class=\"sk-toggleable__label sk-toggleable__label-arrow\">AdaBoostClassifier</label><div class=\"sk-toggleable__content\"><pre>AdaBoostClassifier(algorithm=&#x27;SAMME&#x27;, n_estimators=10, random_state=45)</pre></div></div></div></div></div>"
      ],
      "text/plain": [
       "AdaBoostClassifier(algorithm='SAMME', n_estimators=10, random_state=45)"
      ]
     },
     "execution_count": 32,
     "metadata": {},
     "output_type": "execute_result"
    }
   ],
   "source": [
    "ada_model.fit(X_train_final, y_train)\n",
    "ada_r_model.fit(X_res, y_res)"
   ]
  },
  {
   "cell_type": "markdown",
   "id": "cb6363b2",
   "metadata": {},
   "source": [
    "Pada model Adaboost, kita menggunakan beberapa parameter:\n",
    "- algorithm = SAMME\n",
    "- n_estimator = 10, Jumlah maksimum estimator di mana boosting dihentikan.\n",
    "- Random_state = 45, seed yang digunakan oleh generator angka acak sebanyak 45.\n",
    "\n",
    "Parameter di atas untuk saat ini adalah parameter terbaik yang didapatkan setelah beberapa uji coba."
   ]
  },
  {
   "cell_type": "markdown",
   "id": "22eb6a23",
   "metadata": {},
   "source": [
    "# 8 - Model Evaluation"
   ]
  },
  {
   "cell_type": "markdown",
   "id": "a17e84c4",
   "metadata": {},
   "source": [
    "### MODEL RANDOM FOREST"
   ]
  },
  {
   "cell_type": "code",
   "execution_count": 33,
   "id": "1ba1572b",
   "metadata": {
    "scrolled": false
   },
   "outputs": [
    {
     "name": "stdout",
     "output_type": "stream",
     "text": [
      "Random-Forest\n",
      "========================= TRAINING =========================\n",
      "              precision    recall  f1-score   support\n",
      "\n",
      "           0       1.00      0.99      1.00       153\n",
      "           1       0.99      1.00      0.99        78\n",
      "\n",
      "    accuracy                           1.00       231\n",
      "   macro avg       0.99      1.00      1.00       231\n",
      "weighted avg       1.00      1.00      1.00       231\n",
      "\n",
      "ROC-AUC Score Train: 0.9998743086978381\n",
      "=========================== TEST ===========================\n",
      "              precision    recall  f1-score   support\n",
      "\n",
      "           0       0.87      0.73      0.80        45\n",
      "           1       0.40      0.62      0.48        13\n",
      "\n",
      "    accuracy                           0.71        58\n",
      "   macro avg       0.63      0.67      0.64        58\n",
      "weighted avg       0.76      0.71      0.73        58\n",
      "\n",
      "ROC-AUC Score Test: 0.764102564102564\n",
      "\n",
      "\n",
      "Random-Forest-Resampling\n",
      "========================= TRAINING =========================\n",
      "              precision    recall  f1-score   support\n",
      "\n",
      "           0       0.99      0.99      0.99       153\n",
      "           1       0.99      0.99      0.99       153\n",
      "\n",
      "    accuracy                           0.99       306\n",
      "   macro avg       0.99      0.99      0.99       306\n",
      "weighted avg       0.99      0.99      0.99       306\n",
      "\n",
      "ROC-AUC Score Train: 0.9991883463625102\n",
      "=========================== TEST ===========================\n",
      "              precision    recall  f1-score   support\n",
      "\n",
      "           0       0.90      0.78      0.83        45\n",
      "           1       0.47      0.69      0.56        13\n",
      "\n",
      "    accuracy                           0.76        58\n",
      "   macro avg       0.69      0.74      0.70        58\n",
      "weighted avg       0.80      0.76      0.77        58\n",
      "\n",
      "ROC-AUC Score Test: 0.7632478632478633\n"
     ]
    }
   ],
   "source": [
    "# Show Metrick Evaluation Random Forest\n",
    "\n",
    "# predict train and test \n",
    "y_pred_train_rf = rf_model.predict(X_train_final)\n",
    "y_pred_test_rf = rf_model.predict(X_test_final)\n",
    "\n",
    "# probability train and test\n",
    "y_prob_train = rf_model.predict_proba(X_train_final)[:,1]\n",
    "y_prob_test = rf_model.predict_proba(X_test_final)[:,1]\n",
    "\n",
    "# predict train and test Resampling\n",
    "y_pred_r_train_rf = rf_r_model.predict(X_res)\n",
    "y_pred_r_test_rf = rf_r_model.predict(X_test_final)\n",
    "\n",
    "# probability train and test Resampling\n",
    "y_prob_r_train = rf_r_model.predict_proba(X_res)[:,1]\n",
    "y_prob_r_test = rf_r_model.predict_proba(X_test_final)[:,1]\n",
    "\n",
    "    \n",
    "print('Random-Forest')\n",
    "print(\"=\"*25,\"TRAINING\",\"=\"*25)\n",
    "print(classification_report(y_train, y_pred_train_rf, zero_division=0))\n",
    "print('ROC-AUC Score Train:',roc_auc_score(y_train, y_prob_train))\n",
    "print(\"=\"*27,\"TEST\",\"=\"*27)\n",
    "print(classification_report(y_test, y_pred_test_rf, zero_division=0))\n",
    "print('ROC-AUC Score Test:',roc_auc_score(y_test, y_prob_test))\n",
    "print(\"\\n\")\n",
    "print('Random-Forest-Resampling')\n",
    "print(\"=\"*25,\"TRAINING\",\"=\"*25)\n",
    "print(classification_report(y_res, y_pred_r_train_rf, zero_division=0))\n",
    "print('ROC-AUC Score Train:',roc_auc_score(y_res, y_prob_r_train))\n",
    "print(\"=\"*27,\"TEST\",\"=\"*27)\n",
    "print(classification_report(y_test, y_pred_r_test_rf, zero_division=0))\n",
    "print('ROC-AUC Score Test:',roc_auc_score(y_test, y_prob_r_test))"
   ]
  },
  {
   "cell_type": "markdown",
   "id": "7682d325",
   "metadata": {},
   "source": [
    "- Hasil yang didapatkan dari model sangatlah baik pada data training, jika dilihat dari nilai recall pada penebakan nila 0 dan 1 akurasi sama-sama mendapatkan skor 0.99 dengan accuracy 0.99. Nilai Precision dan f1-score juga sangat bagus, dimana hanya berbeda 0.01 - 0.02.\n",
    "- Pada model Training yang sudah di Resampling sangatlah bagus skor yang dihasilkan yaitu 0.99.\n",
    "- Pada data test nilai recall masih dibawah data training, artinya model kita Overfit."
   ]
  },
  {
   "cell_type": "code",
   "execution_count": 34,
   "id": "4faaf0cf",
   "metadata": {
    "scrolled": true
   },
   "outputs": [
    {
     "data": {
      "image/png": "[encoded data removed]",
      "text/plain": [
       "<Figure size 432x288 with 2 Axes>"
      ]
     },
     "metadata": {
      "needs_background": "light"
     },
     "output_type": "display_data"
    }
   ],
   "source": [
    "# Confussion matrix show the result Random Forest\n",
    "\n",
    "cm = confusion_matrix(y_test, y_pred_test_rf, labels=rf_model.classes_)\n",
    "disp = ConfusionMatrixDisplay(confusion_matrix=cm, display_labels=rf_model.classes_) \n",
    "disp.plot()\n",
    "plt.show()"
   ]
  },
  {
   "cell_type": "markdown",
   "id": "4e373e92",
   "metadata": {},
   "source": [
    "Coefissin matrix Random Forest:\n",
    "\n",
    "- Dari coefission matrix pada data test, didapatkan hasil bahwa model sangat baik memprediksi yang meninggal no, disebabkan data tidaklah seimbang.\n",
    "- Jika kita lihat yang meninggal yes cukup bagus dalam memprediksi sejumlah delapan.\n",
    "- Error dari keduanya pada True Negatif sejumlah 5 dan False Negatif sejumlah 12.\n",
    "- Dengan data hanya sejumlah 58 pada data test, model dapat mengurangi error. Total score ROC-AUC hanya 0.76 yang mana sangat jauh dari data training yang mendapatkan skor 0.99."
   ]
  },
  {
   "cell_type": "code",
   "execution_count": 35,
   "id": "05a1afd7",
   "metadata": {
    "scrolled": true
   },
   "outputs": [
    {
     "data": {
      "image/png": "[encoded data removed]",
      "text/plain": [
       "<Figure size 432x288 with 2 Axes>"
      ]
     },
     "metadata": {
      "needs_background": "light"
     },
     "output_type": "display_data"
    }
   ],
   "source": [
    "# Confussion matrix show the result Random Forest Resampling\n",
    "\n",
    "cm = confusion_matrix(y_test, y_pred_r_test_rf, labels=rf_model.classes_)\n",
    "disp = ConfusionMatrixDisplay(confusion_matrix=cm, display_labels=rf_model.classes_) \n",
    "disp.plot()\n",
    "plt.show()"
   ]
  },
  {
   "cell_type": "markdown",
   "id": "a3f87fc2",
   "metadata": {},
   "source": [
    "Coefissin matrix Random Forest Resampling:\n",
    "\n",
    "- Dari coefission matrix pada data test, didapatkan hasil bahwa model sangat baik memprediksi yang meninggal no, disebabkan data tidaklah seimbang.\n",
    "- Jika kita lihat yang meninggal yes cukup bagus dalam memprediksi sejumlah 9, lebih baik sedikit dari data yang belum di sampling.\n",
    "- Error dari keduanya pada True Negatif sejumlah 4 dan False Negatif sejumlah 10.\n",
    "- Dengan data hanya sejumlah 58 pada data test, model dapat mengurangi error. Total score ROC-AUC hanya 0.76 yang mana sangat jauh dari data training yang mendapatkan skor 0.99."
   ]
  },
  {
   "cell_type": "markdown",
   "id": "3d7e066e",
   "metadata": {},
   "source": [
    "### MODEL ADABOOST"
   ]
  },
  {
   "cell_type": "code",
   "execution_count": 36,
   "id": "bb5cb6ad",
   "metadata": {},
   "outputs": [
    {
     "name": "stdout",
     "output_type": "stream",
     "text": [
      "Adaboost\n",
      "========================= TRAINING =========================\n",
      "              precision    recall  f1-score   support\n",
      "\n",
      "           0       0.89      0.97      0.93       153\n",
      "           1       0.92      0.77      0.84        78\n",
      "\n",
      "    accuracy                           0.90       231\n",
      "   macro avg       0.91      0.87      0.88       231\n",
      "weighted avg       0.90      0.90      0.90       231\n",
      "\n",
      "ROC-AUC Score Train: 0.9500586559410089\n",
      "=========================== TEST ===========================\n",
      "              precision    recall  f1-score   support\n",
      "\n",
      "           0       0.86      0.93      0.89        45\n",
      "           1       0.67      0.46      0.55        13\n",
      "\n",
      "    accuracy                           0.83        58\n",
      "   macro avg       0.76      0.70      0.72        58\n",
      "weighted avg       0.81      0.83      0.82        58\n",
      "\n",
      "ROC-AUC Score Train: 0.7948717948717949\n",
      "\n",
      "\n",
      "Adaboost-Resampling\n",
      "========================= TRAINING =========================\n",
      "              precision    recall  f1-score   support\n",
      "\n",
      "           0       0.86      0.86      0.86       153\n",
      "           1       0.86      0.86      0.86       153\n",
      "\n",
      "    accuracy                           0.86       306\n",
      "   macro avg       0.86      0.86      0.86       306\n",
      "weighted avg       0.86      0.86      0.86       306\n",
      "\n",
      "ROC-AUC Score Train: 0.9437395873382033\n",
      "=========================== TEST ===========================\n",
      "              precision    recall  f1-score   support\n",
      "\n",
      "           0       0.93      0.84      0.88        45\n",
      "           1       0.59      0.77      0.67        13\n",
      "\n",
      "    accuracy                           0.83        58\n",
      "   macro avg       0.76      0.81      0.78        58\n",
      "weighted avg       0.85      0.83      0.84        58\n",
      "\n",
      "ROC-AUC Score Train: 0.8213675213675214\n"
     ]
    }
   ],
   "source": [
    "# Show Metrick Evaluation Adaboost\n",
    "    \n",
    "# predict train and test \n",
    "y_pred_train_ada = ada_model.predict(X_train_final)\n",
    "y_pred_test_ada = ada_model.predict(X_test_final)\n",
    "\n",
    "# probability train and test\n",
    "y_prob_train = ada_model.predict_proba(X_train_final)[:,1]\n",
    "y_prob_test = ada_model.predict_proba(X_test_final)[:,1]\n",
    "\n",
    "# predict train and test Resampling\n",
    "y_pred_r_train_ada = ada_r_model.predict(X_res)\n",
    "y_pred_r_test_ada = ada_r_model.predict(X_test_final)\n",
    "\n",
    "# probability train and test Resampling\n",
    "y_prob_r_train = ada_r_model.predict_proba(X_res)[:,1]\n",
    "y_prob_r_test = ada_r_model.predict_proba(X_test_final)[:,1]\n",
    "   \n",
    "\n",
    "print('Adaboost')\n",
    "print(\"=\"*25,\"TRAINING\",\"=\"*25)\n",
    "print(classification_report(y_train, y_pred_train_ada, zero_division=0))\n",
    "print('ROC-AUC Score Train:',roc_auc_score(y_train, y_prob_train))\n",
    "print(\"=\"*27,\"TEST\",\"=\"*27)\n",
    "print(classification_report(y_test, y_pred_test_ada, zero_division=0))\n",
    "print('ROC-AUC Score Train:',roc_auc_score(y_test, y_prob_test))\n",
    "print('\\n')\n",
    "print('Adaboost-Resampling')\n",
    "print(\"=\"*25,\"TRAINING\",\"=\"*25)\n",
    "print(classification_report(y_res, y_pred_r_train_ada, zero_division=0))\n",
    "print('ROC-AUC Score Train:',roc_auc_score(y_res, y_prob_r_train))\n",
    "print(\"=\"*27,\"TEST\",\"=\"*27)\n",
    "print(classification_report(y_test, y_pred_r_test_ada, zero_division=0))\n",
    "print('ROC-AUC Score Train:',roc_auc_score(y_test, y_prob_r_test))"
   ]
  },
  {
   "cell_type": "markdown",
   "id": "38f091fd",
   "metadata": {},
   "source": [
    "- Pada model Adaboost sebelum resampling, hasil pada data training dan test hanya bagus pada nilai 0 sedangakan nilai 1 sangatlah jauh. Skor keduanya pada data training 0.95 dan test 0.79, sangatlah Overfit. Dari recall juga terlihat keduanya sangatlah Overfit.\n",
    "- Pada data yang sudah di Resampling, skor saling mendekati antara data train dan test. Walaupun masih Overfit tetapi tidak terlalu jauh. Dan kita bisa menggunakan model Adaboost sebagai model kita karena mendapatkan skor baik train dan test yang bagus dan masih mendekati."
   ]
  },
  {
   "cell_type": "code",
   "execution_count": 37,
   "id": "3a4fd4ad",
   "metadata": {
    "scrolled": true
   },
   "outputs": [
    {
     "data": {
      "image/png": "[encoded data removed]",
      "text/plain": [
       "<Figure size 432x288 with 2 Axes>"
      ]
     },
     "metadata": {
      "needs_background": "light"
     },
     "output_type": "display_data"
    }
   ],
   "source": [
    "# Confussion matrix show the result Adaboost\n",
    "\n",
    "cm = confusion_matrix(y_test, y_pred_test_ada, labels=ada_model.classes_)\n",
    "disp = ConfusionMatrixDisplay(confusion_matrix=cm, display_labels=ada_model.classes_)\n",
    "\n",
    "disp.plot()\n",
    "plt.show()"
   ]
  },
  {
   "cell_type": "markdown",
   "id": "5a5cf987",
   "metadata": {},
   "source": [
    "Coefissin matrix Adaboost :\n",
    "\n",
    "- Dari coefission matrix pada data test, didapatkan hasil bahwa model sangat baik memprediksi yang meninggal no, disebabkan data tidaklah seimbang.\n",
    "- Jika kita lihat yang meninggal no cukup bagus dalam memprediksi sejumlah 42.\n",
    "- Error dari keduanya pada True Negatif sejumlah 7 dan False Negatif sejumlah 3.\n",
    "- Dengan data hanya sejumlah 58 pada data test, model dapat mengurangi error. Total score ROC-AUC hanya 0.79 yang mana sangat jauh dari data training yang mendapatkan skor 0.95."
   ]
  },
  {
   "cell_type": "code",
   "execution_count": 38,
   "id": "856e47d2",
   "metadata": {
    "scrolled": true
   },
   "outputs": [
    {
     "data": {
      "image/png": "[encoded data removed]",
      "text/plain": [
       "<Figure size 432x288 with 2 Axes>"
      ]
     },
     "metadata": {
      "needs_background": "light"
     },
     "output_type": "display_data"
    }
   ],
   "source": [
    "# Confussion matrix show the result Adaboost Resampling\n",
    "\n",
    "cm = confusion_matrix(y_test, y_pred_r_test_ada, labels=ada_model.classes_)\n",
    "disp = ConfusionMatrixDisplay(confusion_matrix=cm, display_labels=ada_model.classes_)\n",
    "\n",
    "disp.plot()\n",
    "plt.show()"
   ]
  },
  {
   "cell_type": "markdown",
   "id": "466af28b",
   "metadata": {},
   "source": [
    "Coefissin matrix Adaboost Resampling :\n",
    "\n",
    "- Dari coefission matrix pada data test, didapatkan hasil bahwa model sangat baik memprediksi yang meninggal no, disebabkan data tidaklah seimbang.\n",
    "- Jika kita lihat yang meninggal no cukup bagus dalam memprediksi sejumlah 38 dan yang meninggal yes 10.\n",
    "- Error dari keduanya pada True Negatif sejumlah 3 dan False Negatif sejumlah 7.\n",
    "- Dengan data hanya sejumlah 58 pada data test, model dapat mengurangi error. Dengan total skor akurasi train 0.86 dan test 0.83."
   ]
  },
  {
   "cell_type": "markdown",
   "id": "498f158d",
   "metadata": {},
   "source": [
    "# 9 - Model Inference"
   ]
  },
  {
   "cell_type": "code",
   "execution_count": 39,
   "id": "ff4faec6",
   "metadata": {
    "scrolled": false
   },
   "outputs": [
    {
     "data": {
      "text/html": [
       "<div>\n",
       "<style scoped>\n",
       "    .dataframe tbody tr th:only-of-type {\n",
       "        vertical-align: middle;\n",
       "    }\n",
       "\n",
       "    .dataframe tbody tr th {\n",
       "        vertical-align: top;\n",
       "    }\n",
       "\n",
       "    .dataframe thead th {\n",
       "        text-align: right;\n",
       "    }\n",
       "</style>\n",
       "<table border=\"1\" class=\"dataframe\">\n",
       "  <thead>\n",
       "    <tr style=\"text-align: right;\">\n",
       "      <th></th>\n",
       "      <th>age</th>\n",
       "      <th>anaemia</th>\n",
       "      <th>creatinine_phosphokinase</th>\n",
       "      <th>diabetes</th>\n",
       "      <th>ejection_fraction</th>\n",
       "      <th>high_blood_pressure</th>\n",
       "      <th>platelets</th>\n",
       "      <th>serum_creatinine</th>\n",
       "      <th>serum_sodium</th>\n",
       "      <th>sex</th>\n",
       "      <th>smoking</th>\n",
       "      <th>time</th>\n",
       "      <th>DEATH_EVENT</th>\n",
       "    </tr>\n",
       "  </thead>\n",
       "  <tbody>\n",
       "    <tr>\n",
       "      <th>0</th>\n",
       "      <td>73.0</td>\n",
       "      <td>0</td>\n",
       "      <td>582</td>\n",
       "      <td>0</td>\n",
       "      <td>20</td>\n",
       "      <td>0</td>\n",
       "      <td>263358.03</td>\n",
       "      <td>1.83</td>\n",
       "      <td>134</td>\n",
       "      <td>1</td>\n",
       "      <td>0</td>\n",
       "      <td>198</td>\n",
       "      <td>1</td>\n",
       "    </tr>\n",
       "    <tr>\n",
       "      <th>1</th>\n",
       "      <td>65.0</td>\n",
       "      <td>1</td>\n",
       "      <td>113</td>\n",
       "      <td>1</td>\n",
       "      <td>60</td>\n",
       "      <td>1</td>\n",
       "      <td>203000.00</td>\n",
       "      <td>0.90</td>\n",
       "      <td>140</td>\n",
       "      <td>0</td>\n",
       "      <td>0</td>\n",
       "      <td>94</td>\n",
       "      <td>0</td>\n",
       "    </tr>\n",
       "    <tr>\n",
       "      <th>2</th>\n",
       "      <td>50.0</td>\n",
       "      <td>0</td>\n",
       "      <td>250</td>\n",
       "      <td>0</td>\n",
       "      <td>25</td>\n",
       "      <td>0</td>\n",
       "      <td>262000.00</td>\n",
       "      <td>1.00</td>\n",
       "      <td>136</td>\n",
       "      <td>1</td>\n",
       "      <td>1</td>\n",
       "      <td>120</td>\n",
       "      <td>0</td>\n",
       "    </tr>\n",
       "    <tr>\n",
       "      <th>3</th>\n",
       "      <td>63.0</td>\n",
       "      <td>0</td>\n",
       "      <td>193</td>\n",
       "      <td>0</td>\n",
       "      <td>60</td>\n",
       "      <td>1</td>\n",
       "      <td>295000.00</td>\n",
       "      <td>1.30</td>\n",
       "      <td>145</td>\n",
       "      <td>1</td>\n",
       "      <td>1</td>\n",
       "      <td>107</td>\n",
       "      <td>0</td>\n",
       "    </tr>\n",
       "    <tr>\n",
       "      <th>4</th>\n",
       "      <td>59.0</td>\n",
       "      <td>1</td>\n",
       "      <td>176</td>\n",
       "      <td>1</td>\n",
       "      <td>25</td>\n",
       "      <td>0</td>\n",
       "      <td>221000.00</td>\n",
       "      <td>1.00</td>\n",
       "      <td>136</td>\n",
       "      <td>1</td>\n",
       "      <td>1</td>\n",
       "      <td>150</td>\n",
       "      <td>1</td>\n",
       "    </tr>\n",
       "    <tr>\n",
       "      <th>5</th>\n",
       "      <td>72.0</td>\n",
       "      <td>0</td>\n",
       "      <td>211</td>\n",
       "      <td>0</td>\n",
       "      <td>25</td>\n",
       "      <td>0</td>\n",
       "      <td>274000.00</td>\n",
       "      <td>1.20</td>\n",
       "      <td>134</td>\n",
       "      <td>0</td>\n",
       "      <td>0</td>\n",
       "      <td>207</td>\n",
       "      <td>0</td>\n",
       "    </tr>\n",
       "    <tr>\n",
       "      <th>6</th>\n",
       "      <td>90.0</td>\n",
       "      <td>1</td>\n",
       "      <td>47</td>\n",
       "      <td>0</td>\n",
       "      <td>40</td>\n",
       "      <td>1</td>\n",
       "      <td>204000.00</td>\n",
       "      <td>2.10</td>\n",
       "      <td>132</td>\n",
       "      <td>1</td>\n",
       "      <td>1</td>\n",
       "      <td>8</td>\n",
       "      <td>1</td>\n",
       "    </tr>\n",
       "    <tr>\n",
       "      <th>7</th>\n",
       "      <td>65.0</td>\n",
       "      <td>0</td>\n",
       "      <td>582</td>\n",
       "      <td>1</td>\n",
       "      <td>30</td>\n",
       "      <td>0</td>\n",
       "      <td>249000.00</td>\n",
       "      <td>1.30</td>\n",
       "      <td>136</td>\n",
       "      <td>1</td>\n",
       "      <td>1</td>\n",
       "      <td>212</td>\n",
       "      <td>0</td>\n",
       "    </tr>\n",
       "    <tr>\n",
       "      <th>8</th>\n",
       "      <td>50.0</td>\n",
       "      <td>0</td>\n",
       "      <td>318</td>\n",
       "      <td>0</td>\n",
       "      <td>40</td>\n",
       "      <td>1</td>\n",
       "      <td>216000.00</td>\n",
       "      <td>2.30</td>\n",
       "      <td>131</td>\n",
       "      <td>0</td>\n",
       "      <td>0</td>\n",
       "      <td>60</td>\n",
       "      <td>1</td>\n",
       "    </tr>\n",
       "    <tr>\n",
       "      <th>9</th>\n",
       "      <td>55.0</td>\n",
       "      <td>0</td>\n",
       "      <td>1199</td>\n",
       "      <td>0</td>\n",
       "      <td>20</td>\n",
       "      <td>0</td>\n",
       "      <td>263358.03</td>\n",
       "      <td>1.83</td>\n",
       "      <td>134</td>\n",
       "      <td>1</td>\n",
       "      <td>1</td>\n",
       "      <td>241</td>\n",
       "      <td>1</td>\n",
       "    </tr>\n",
       "  </tbody>\n",
       "</table>\n",
       "</div>"
      ],
      "text/plain": [
       "    age  anaemia  creatinine_phosphokinase  diabetes  ejection_fraction  \\\n",
       "0  73.0        0                       582         0                 20   \n",
       "1  65.0        1                       113         1                 60   \n",
       "2  50.0        0                       250         0                 25   \n",
       "3  63.0        0                       193         0                 60   \n",
       "4  59.0        1                       176         1                 25   \n",
       "5  72.0        0                       211         0                 25   \n",
       "6  90.0        1                        47         0                 40   \n",
       "7  65.0        0                       582         1                 30   \n",
       "8  50.0        0                       318         0                 40   \n",
       "9  55.0        0                      1199         0                 20   \n",
       "\n",
       "   high_blood_pressure  platelets  serum_creatinine  serum_sodium  sex  \\\n",
       "0                    0  263358.03              1.83           134    1   \n",
       "1                    1  203000.00              0.90           140    0   \n",
       "2                    0  262000.00              1.00           136    1   \n",
       "3                    1  295000.00              1.30           145    1   \n",
       "4                    0  221000.00              1.00           136    1   \n",
       "5                    0  274000.00              1.20           134    0   \n",
       "6                    1  204000.00              2.10           132    1   \n",
       "7                    0  249000.00              1.30           136    1   \n",
       "8                    1  216000.00              2.30           131    0   \n",
       "9                    0  263358.03              1.83           134    1   \n",
       "\n",
       "   smoking  time  DEATH_EVENT  \n",
       "0        0   198            1  \n",
       "1        0    94            0  \n",
       "2        1   120            0  \n",
       "3        1   107            0  \n",
       "4        1   150            1  \n",
       "5        0   207            0  \n",
       "6        1     8            1  \n",
       "7        1   212            0  \n",
       "8        0    60            1  \n",
       "9        1   241            1  "
      ]
     },
     "execution_count": 39,
     "metadata": {},
     "output_type": "execute_result"
    }
   ],
   "source": [
    "df_inf"
   ]
  },
  {
   "cell_type": "code",
   "execution_count": 40,
   "id": "d61b8aba",
   "metadata": {},
   "outputs": [],
   "source": [
    "# Split between numeric and category data for data inference\n",
    "\n",
    "X_inf_num = df_inf[num_d]"
   ]
  },
  {
   "cell_type": "code",
   "execution_count": 41,
   "id": "e4cb0d10",
   "metadata": {
    "scrolled": true
   },
   "outputs": [
    {
     "data": {
      "text/plain": [
       "array([[0.81545064, 0.66428571, 0.        , 0.575     ],\n",
       "       [0.36909871, 0.        , 1.        , 0.375     ],\n",
       "       [0.4806867 , 0.07142857, 0.125     , 0.        ],\n",
       "       [0.4248927 , 0.28571429, 1.        , 0.325     ],\n",
       "       [0.60944206, 0.07142857, 0.125     , 0.225     ],\n",
       "       [0.85407725, 0.21428571, 0.125     , 0.55      ],\n",
       "       [0.        , 0.85714286, 0.5       , 1.        ],\n",
       "       [0.87553648, 0.28571429, 0.25      , 0.375     ],\n",
       "       [0.22317597, 1.        , 0.5       , 0.        ],\n",
       "       [1.        , 0.66428571, 0.        , 0.125     ]])"
      ]
     },
     "execution_count": 41,
     "metadata": {},
     "output_type": "execute_result"
    }
   ],
   "source": [
    "# feature scaling menggunakan MinMaxScaller\n",
    "\n",
    "scaler.fit(X_inf_num)\n",
    "X_inf_scaled = scaler.transform(X_inf_num)\n",
    "X_inf_scaled"
   ]
  },
  {
   "cell_type": "code",
   "execution_count": 42,
   "id": "31142d91",
   "metadata": {
    "scrolled": false
   },
   "outputs": [
    {
     "data": {
      "text/plain": [
       "array([[0.81545064, 0.66428571, 0.        , 0.575     , 0.        ],\n",
       "       [0.36909871, 0.        , 1.        , 0.375     , 1.        ],\n",
       "       [0.4806867 , 0.07142857, 0.125     , 0.        , 0.        ],\n",
       "       [0.4248927 , 0.28571429, 1.        , 0.325     , 1.        ],\n",
       "       [0.60944206, 0.07142857, 0.125     , 0.225     , 0.        ],\n",
       "       [0.85407725, 0.21428571, 0.125     , 0.55      , 0.        ],\n",
       "       [0.        , 0.85714286, 0.5       , 1.        , 1.        ],\n",
       "       [0.87553648, 0.28571429, 0.25      , 0.375     , 0.        ],\n",
       "       [0.22317597, 1.        , 0.5       , 0.        , 1.        ],\n",
       "       [1.        , 0.66428571, 0.        , 0.125     , 0.        ]])"
      ]
     },
     "execution_count": 42,
     "metadata": {},
     "output_type": "execute_result"
    }
   ],
   "source": [
    "# Concat inf scaled data and inf category data\n",
    "\n",
    "df_inf_final = np.concatenate([X_inf_scaled, df_inf[cat_d]], axis=1)\n",
    "df_inf_final"
   ]
  },
  {
   "cell_type": "code",
   "execution_count": 43,
   "id": "dc1072be",
   "metadata": {},
   "outputs": [
    {
     "data": {
      "text/html": [
       "<div>\n",
       "<style scoped>\n",
       "    .dataframe tbody tr th:only-of-type {\n",
       "        vertical-align: middle;\n",
       "    }\n",
       "\n",
       "    .dataframe tbody tr th {\n",
       "        vertical-align: top;\n",
       "    }\n",
       "\n",
       "    .dataframe thead th {\n",
       "        text-align: right;\n",
       "    }\n",
       "</style>\n",
       "<table border=\"1\" class=\"dataframe\">\n",
       "  <thead>\n",
       "    <tr style=\"text-align: right;\">\n",
       "      <th></th>\n",
       "      <th>0</th>\n",
       "      <th>1</th>\n",
       "      <th>2</th>\n",
       "      <th>3</th>\n",
       "      <th>4</th>\n",
       "    </tr>\n",
       "  </thead>\n",
       "  <tbody>\n",
       "    <tr>\n",
       "      <th>0</th>\n",
       "      <td>0.815451</td>\n",
       "      <td>0.664286</td>\n",
       "      <td>0.000</td>\n",
       "      <td>0.575</td>\n",
       "      <td>0.0</td>\n",
       "    </tr>\n",
       "    <tr>\n",
       "      <th>1</th>\n",
       "      <td>0.369099</td>\n",
       "      <td>0.000000</td>\n",
       "      <td>1.000</td>\n",
       "      <td>0.375</td>\n",
       "      <td>1.0</td>\n",
       "    </tr>\n",
       "    <tr>\n",
       "      <th>2</th>\n",
       "      <td>0.480687</td>\n",
       "      <td>0.071429</td>\n",
       "      <td>0.125</td>\n",
       "      <td>0.000</td>\n",
       "      <td>0.0</td>\n",
       "    </tr>\n",
       "    <tr>\n",
       "      <th>3</th>\n",
       "      <td>0.424893</td>\n",
       "      <td>0.285714</td>\n",
       "      <td>1.000</td>\n",
       "      <td>0.325</td>\n",
       "      <td>1.0</td>\n",
       "    </tr>\n",
       "    <tr>\n",
       "      <th>4</th>\n",
       "      <td>0.609442</td>\n",
       "      <td>0.071429</td>\n",
       "      <td>0.125</td>\n",
       "      <td>0.225</td>\n",
       "      <td>0.0</td>\n",
       "    </tr>\n",
       "    <tr>\n",
       "      <th>5</th>\n",
       "      <td>0.854077</td>\n",
       "      <td>0.214286</td>\n",
       "      <td>0.125</td>\n",
       "      <td>0.550</td>\n",
       "      <td>0.0</td>\n",
       "    </tr>\n",
       "    <tr>\n",
       "      <th>6</th>\n",
       "      <td>0.000000</td>\n",
       "      <td>0.857143</td>\n",
       "      <td>0.500</td>\n",
       "      <td>1.000</td>\n",
       "      <td>1.0</td>\n",
       "    </tr>\n",
       "    <tr>\n",
       "      <th>7</th>\n",
       "      <td>0.875536</td>\n",
       "      <td>0.285714</td>\n",
       "      <td>0.250</td>\n",
       "      <td>0.375</td>\n",
       "      <td>0.0</td>\n",
       "    </tr>\n",
       "    <tr>\n",
       "      <th>8</th>\n",
       "      <td>0.223176</td>\n",
       "      <td>1.000000</td>\n",
       "      <td>0.500</td>\n",
       "      <td>0.000</td>\n",
       "      <td>1.0</td>\n",
       "    </tr>\n",
       "    <tr>\n",
       "      <th>9</th>\n",
       "      <td>1.000000</td>\n",
       "      <td>0.664286</td>\n",
       "      <td>0.000</td>\n",
       "      <td>0.125</td>\n",
       "      <td>0.0</td>\n",
       "    </tr>\n",
       "  </tbody>\n",
       "</table>\n",
       "</div>"
      ],
      "text/plain": [
       "          0         1      2      3    4\n",
       "0  0.815451  0.664286  0.000  0.575  0.0\n",
       "1  0.369099  0.000000  1.000  0.375  1.0\n",
       "2  0.480687  0.071429  0.125  0.000  0.0\n",
       "3  0.424893  0.285714  1.000  0.325  1.0\n",
       "4  0.609442  0.071429  0.125  0.225  0.0\n",
       "5  0.854077  0.214286  0.125  0.550  0.0\n",
       "6  0.000000  0.857143  0.500  1.000  1.0\n",
       "7  0.875536  0.285714  0.250  0.375  0.0\n",
       "8  0.223176  1.000000  0.500  0.000  1.0\n",
       "9  1.000000  0.664286  0.000  0.125  0.0"
      ]
     },
     "execution_count": 43,
     "metadata": {},
     "output_type": "execute_result"
    }
   ],
   "source": [
    "# Create DataFrame inference final\n",
    "\n",
    "pd.DataFrame(df_inf_final)"
   ]
  },
  {
   "cell_type": "code",
   "execution_count": 44,
   "id": "3c6bc366",
   "metadata": {},
   "outputs": [],
   "source": [
    "# Do prediction on data inference with Random Forest\n",
    "\n",
    "y_pred_inf = ada_r_model.predict(df_inf_final)\n",
    "y_pred_inf_df = pd.DataFrame(y_pred_inf, columns=['Predicted'])"
   ]
  },
  {
   "cell_type": "code",
   "execution_count": 45,
   "id": "516481c2",
   "metadata": {},
   "outputs": [
    {
     "data": {
      "text/html": [
       "<div>\n",
       "<style scoped>\n",
       "    .dataframe tbody tr th:only-of-type {\n",
       "        vertical-align: middle;\n",
       "    }\n",
       "\n",
       "    .dataframe tbody tr th {\n",
       "        vertical-align: top;\n",
       "    }\n",
       "\n",
       "    .dataframe thead th {\n",
       "        text-align: right;\n",
       "    }\n",
       "</style>\n",
       "<table border=\"1\" class=\"dataframe\">\n",
       "  <thead>\n",
       "    <tr style=\"text-align: right;\">\n",
       "      <th></th>\n",
       "      <th>DEATH_EVENT</th>\n",
       "      <th>Predicted</th>\n",
       "    </tr>\n",
       "  </thead>\n",
       "  <tbody>\n",
       "    <tr>\n",
       "      <th>0</th>\n",
       "      <td>1</td>\n",
       "      <td>1</td>\n",
       "    </tr>\n",
       "    <tr>\n",
       "      <th>1</th>\n",
       "      <td>0</td>\n",
       "      <td>0</td>\n",
       "    </tr>\n",
       "    <tr>\n",
       "      <th>2</th>\n",
       "      <td>0</td>\n",
       "      <td>1</td>\n",
       "    </tr>\n",
       "    <tr>\n",
       "      <th>3</th>\n",
       "      <td>0</td>\n",
       "      <td>0</td>\n",
       "    </tr>\n",
       "    <tr>\n",
       "      <th>4</th>\n",
       "      <td>1</td>\n",
       "      <td>1</td>\n",
       "    </tr>\n",
       "    <tr>\n",
       "      <th>5</th>\n",
       "      <td>0</td>\n",
       "      <td>1</td>\n",
       "    </tr>\n",
       "    <tr>\n",
       "      <th>6</th>\n",
       "      <td>1</td>\n",
       "      <td>1</td>\n",
       "    </tr>\n",
       "    <tr>\n",
       "      <th>7</th>\n",
       "      <td>0</td>\n",
       "      <td>0</td>\n",
       "    </tr>\n",
       "    <tr>\n",
       "      <th>8</th>\n",
       "      <td>1</td>\n",
       "      <td>1</td>\n",
       "    </tr>\n",
       "    <tr>\n",
       "      <th>9</th>\n",
       "      <td>1</td>\n",
       "      <td>0</td>\n",
       "    </tr>\n",
       "  </tbody>\n",
       "</table>\n",
       "</div>"
      ],
      "text/plain": [
       "   DEATH_EVENT  Predicted\n",
       "0            1          1\n",
       "1            0          0\n",
       "2            0          1\n",
       "3            0          0\n",
       "4            1          1\n",
       "5            0          1\n",
       "6            1          1\n",
       "7            0          0\n",
       "8            1          1\n",
       "9            1          0"
      ]
     },
     "execution_count": 45,
     "metadata": {},
     "output_type": "execute_result"
    }
   ],
   "source": [
    "# Concat between target inference with prediction inference\n",
    "\n",
    "pd.concat([df_inf['DEATH_EVENT'], y_pred_inf_df], axis=1)"
   ]
  },
  {
   "cell_type": "markdown",
   "id": "3f5470cf",
   "metadata": {},
   "source": [
    "Dari percobaan dengan data inference didapati model bisa benar memprediksi sejumlah 7 benar dan 3 salah. \n",
    "\n",
    "benar:\n",
    "   - 1 =  4\n",
    "   - 0 = 3\n",
    "   \n",
    "salah:\n",
    "\n",
    "   - 1 = 1\n",
    "   - 0 = 2\n",
    "   \n",
    "Tetapi model harus dicoba kembali dengan data yang lebih banyak untuk uji coba lebih lanjut pada model."
   ]
  },
  {
   "cell_type": "markdown",
   "id": "d0021b27",
   "metadata": {},
   "source": [
    "# 10 - Conclusions"
   ]
  },
  {
   "cell_type": "markdown",
   "id": "52810b63",
   "metadata": {},
   "source": [
    "Dari hasil analisa yang telah kita lakukan dapat ditarik kesimpulan bahwa beberapa data ada yang mempengaruhi kematina seperti time, serum_creatinine, ejection_fraction, age dan high_blood_pressure. Dari analisa EDA kita mengetahui bahwa semakin tua seseoran maka semakin cepat dalam waktu kematian jika terkena penyakit, dari data seseorang dengan umur di atas 75 tahun mengalami waktu kematian yang sangat cepat dibandingkan dengan yang berumur lebih muda. Normalnya serum creatinine adalah untuk Laki-laki dewasa dari 0.74 - 1.35 mg/dL dan untuk wanita dewasa dari 0.59 - 1.04 mg/dL. pada grafik rata-rata yang meninggal sudah melewati batas normal. Tetapi jika sudah terlampau jauh dari batas normal waktu kematian akan lebih cepat. Jumlah yang meninggal akibat tekanan darah tinggi sejumlah 39 orang dari total 105 orang dan salah satu penyebabnya terkena tekanan darah tinggi adalah perokok.\n",
    "\n",
    "Ejection Fraction menggambarkan persentase darah yang dipompa keluar oleh ruang jantung kiri saat berkontraksi, dengan nilai normalnya 55-70%. Rata-rata kebanyakan pasien memiliki persentase di 35%, sedangkan yang meninggal banyak di persentase 25% yang mana jauh dari batas normal. Jika dilihat persentase di atas 50% atau normal sangat sedikit yang meninggal dibandingkan yang dibawah normal.\n",
    "\n",
    "Anaemia sebenarnya berpengaruh dengan kematian dan memiliki hubungan dengan Diabetes. Tetapi karena tidak adanya hubungan setelah kita lakukan tes uji hipotesa dan pengaruhnya sangat kecil ke target kita maka tidak kita gunakan sebagai feature.\n",
    "\n",
    "Dari percobaan model antara Random Forest dan Adaboost, baik yang sebelum di resampling dan sesudah di resampling. Hasil yang kita dapatkan bahwa model terbaik yang paling kecil Overfit nya adalah model Adaboost yang telah di resampling. Dengan skor akurasi 0.86 dan 0.83. Maka kita memilih model Adaboost sebagai Model yang kita gunakan untuk mendeteksi kematian seseorang."
   ]
  },
  {
   "cell_type": "markdown",
   "id": "0e0ad18f",
   "metadata": {},
   "source": [
    "# Conceptual Problems"
   ]
  },
  {
   "cell_type": "markdown",
   "id": "426d9c0d",
   "metadata": {},
   "source": [
    "1. Apakah yang dimaksud dengan Bagging?\n",
    "\n",
    "    Jawab : Bagging bekerja dengan meningkatkan akurasi pembelajar yang lemah dengan melatih beberapa pembelajar sekaligus pada beberapa set data.\n",
    "\n",
    "2. Jelaskan perbedaan algoritma Random Forest dengan algoritma boosting yang Anda pilih?\n",
    "\n",
    "    Jawab : \n",
    "\n",
    "    - Random Forest bekerja dengan membangun beberapa decision tree dan menggabungkannya untuk mendapatkan prediksi yang lebih stabil dan akurat. Algoritma Random Forest meningkatkan keacakan pada model sambil menumbuhkan tree.Random Forest **mencari fitur terbaik** di antara subset fitur yang acak dalam penentuan node.\n",
    "\n",
    "    - AdaBoost memberikan bobot yang sama untuk setiap set data. Kemudian, secara otomatis menyesuaikan bobot titik data setiap decision tree. AdaBoost memberikan **bobot lebih pada item dengan klasifikasi yang salah** agar diperbaiki di putaran berikutnya."
   ]
  }
 ],
 "metadata": {
  "kernelspec": {
   "display_name": "Python 3 (ipykernel)",
   "language": "python",
   "name": "python3"
  },
  "language_info": {
   "codemirror_mode": {
    "name": "ipython",
    "version": 3
   },
   "file_extension": ".py",
   "mimetype": "text/x-python",
   "name": "python",
   "nbconvert_exporter": "python",
   "pygments_lexer": "ipython3",
   "version": "3.9.12"
  }
 },
 "nbformat": 4,
 "nbformat_minor": 5
}
